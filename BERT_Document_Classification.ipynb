{
  "nbformat": 4,
  "nbformat_minor": 0,
  "metadata": {
    "colab": {
      "provenance": [],
      "toc_visible": true
    },
    "kernelspec": {
      "name": "python3",
      "display_name": "Python 3"
    },
    "accelerator": "GPU"
  },
  "cells": [
    {
      "cell_type": "markdown",
      "metadata": {
        "id": "Lj_eBt3G3bo6"
      },
      "source": [
        "# Part I - Setup & Dataset Prep\n",
        "-------------------------------"
      ]
    },
    {
      "cell_type": "markdown",
      "metadata": {
        "id": "RX_ZDhicpHkV"
      },
      "source": [
        "## 1. Setup\n"
      ]
    },
    {
      "cell_type": "markdown",
      "metadata": {
        "id": "nSU7yERLP_66"
      },
      "source": [
        "### 1.1. Using Colab GPU for Training\n"
      ]
    },
    {
      "cell_type": "markdown",
      "metadata": {
        "id": "GI0iOY8zvZzL"
      },
      "source": [
        "\n",
        "Google Colab offers free GPUs and TPUs! Since we'll be training a large neural network it's best to take advantage of this (in this case we'll attach a GPU), otherwise training will take a very long time.\n",
        "\n",
        "A GPU can be added by going to the menu and selecting:\n",
        "\n",
        "`Edit 🡒 Notebook Settings 🡒 Hardware accelerator 🡒 (GPU)`\n",
        "\n",
        "Then run the following cell to confirm that the GPU is detected."
      ]
    },
    {
      "cell_type": "code",
      "metadata": {
        "id": "DEfSbAA4QHas",
        "colab": {
          "base_uri": "https://localhost:8080/"
        },
        "outputId": "06313568-6669-458e-beda-1b2bc68ffc01"
      },
      "source": [
        "import tensorflow as tf\n",
        "\n",
        "# Get the GPU device name.\n",
        "device_name = tf.test.gpu_device_name()\n",
        "\n",
        "# The device name should look like the following:\n",
        "if device_name == '/device:GPU:0':\n",
        "    print('Found GPU at: {}'.format(device_name))\n",
        "else:\n",
        "    raise SystemError('GPU device not found')"
      ],
      "execution_count": 46,
      "outputs": [
        {
          "output_type": "stream",
          "name": "stdout",
          "text": [
            "Found GPU at: /device:GPU:0\n"
          ]
        }
      ]
    },
    {
      "cell_type": "markdown",
      "metadata": {
        "id": "cqG7FzRVFEIv"
      },
      "source": [
        "In order for torch to use the GPU, we need to identify and specify the GPU as the device. Later, in our training loop, we will load data onto the device."
      ]
    },
    {
      "cell_type": "code",
      "metadata": {
        "id": "oYsV4H8fCpZ-",
        "colab": {
          "base_uri": "https://localhost:8080/"
        },
        "outputId": "60216be2-a7dc-43e6-cf63-a10310f09291"
      },
      "source": [
        "import torch\n",
        "\n",
        "# If there's a GPU available...\n",
        "if torch.cuda.is_available():\n",
        "\n",
        "    # Tell PyTorch to use the GPU.\n",
        "    device = torch.device(\"cuda\")\n",
        "\n",
        "    print('There are %d GPU(s) available.' % torch.cuda.device_count())\n",
        "\n",
        "    print('We will use the GPU:', torch.cuda.get_device_name(0))\n",
        "\n",
        "# If not...\n",
        "else:\n",
        "    print('No GPU available, using the CPU instead.')\n",
        "    device = torch.device(\"cpu\")"
      ],
      "execution_count": 47,
      "outputs": [
        {
          "output_type": "stream",
          "name": "stdout",
          "text": [
            "There are 1 GPU(s) available.\n",
            "We will use the GPU: Tesla T4\n"
          ]
        }
      ]
    },
    {
      "cell_type": "markdown",
      "metadata": {
        "id": "2ElsnSNUridI"
      },
      "source": [
        "### 1.2. Installing the Hugging Face Library\n"
      ]
    },
    {
      "cell_type": "markdown",
      "metadata": {
        "id": "G_N2UDLevYWn"
      },
      "source": [
        "\n",
        "Next, let's install the [transformers](https://github.com/huggingface/transformers) package from Hugging Face which will give us a pytorch interface for working with BERT."
      ]
    },
    {
      "cell_type": "code",
      "metadata": {
        "id": "0NmMdkZO8R6q",
        "colab": {
          "base_uri": "https://localhost:8080/"
        },
        "outputId": "45ddcae2-d686-472c-9ae7-b0196f4c0947"
      },
      "source": [
        "!pip install transformers"
      ],
      "execution_count": 48,
      "outputs": [
        {
          "output_type": "stream",
          "name": "stdout",
          "text": [
            "Requirement already satisfied: transformers in /usr/local/lib/python3.10/dist-packages (4.31.0)\n",
            "Requirement already satisfied: filelock in /usr/local/lib/python3.10/dist-packages (from transformers) (3.12.2)\n",
            "Requirement already satisfied: huggingface-hub<1.0,>=0.14.1 in /usr/local/lib/python3.10/dist-packages (from transformers) (0.16.4)\n",
            "Requirement already satisfied: numpy>=1.17 in /usr/local/lib/python3.10/dist-packages (from transformers) (1.22.4)\n",
            "Requirement already satisfied: packaging>=20.0 in /usr/local/lib/python3.10/dist-packages (from transformers) (23.1)\n",
            "Requirement already satisfied: pyyaml>=5.1 in /usr/local/lib/python3.10/dist-packages (from transformers) (6.0.1)\n",
            "Requirement already satisfied: regex!=2019.12.17 in /usr/local/lib/python3.10/dist-packages (from transformers) (2022.10.31)\n",
            "Requirement already satisfied: requests in /usr/local/lib/python3.10/dist-packages (from transformers) (2.27.1)\n",
            "Requirement already satisfied: tokenizers!=0.11.3,<0.14,>=0.11.1 in /usr/local/lib/python3.10/dist-packages (from transformers) (0.13.3)\n",
            "Requirement already satisfied: safetensors>=0.3.1 in /usr/local/lib/python3.10/dist-packages (from transformers) (0.3.1)\n",
            "Requirement already satisfied: tqdm>=4.27 in /usr/local/lib/python3.10/dist-packages (from transformers) (4.65.0)\n",
            "Requirement already satisfied: fsspec in /usr/local/lib/python3.10/dist-packages (from huggingface-hub<1.0,>=0.14.1->transformers) (2023.6.0)\n",
            "Requirement already satisfied: typing-extensions>=3.7.4.3 in /usr/local/lib/python3.10/dist-packages (from huggingface-hub<1.0,>=0.14.1->transformers) (4.7.1)\n",
            "Requirement already satisfied: urllib3<1.27,>=1.21.1 in /usr/local/lib/python3.10/dist-packages (from requests->transformers) (1.26.16)\n",
            "Requirement already satisfied: certifi>=2017.4.17 in /usr/local/lib/python3.10/dist-packages (from requests->transformers) (2023.7.22)\n",
            "Requirement already satisfied: charset-normalizer~=2.0.0 in /usr/local/lib/python3.10/dist-packages (from requests->transformers) (2.0.12)\n",
            "Requirement already satisfied: idna<4,>=2.5 in /usr/local/lib/python3.10/dist-packages (from requests->transformers) (3.4)\n"
          ]
        }
      ]
    },
    {
      "cell_type": "markdown",
      "metadata": {
        "id": "Bt3HTo7LLMtj"
      },
      "source": [
        "## 2. Retrieve & Inspect Dataset\n",
        "\n"
      ]
    },
    {
      "cell_type": "markdown",
      "metadata": {
        "id": "JMx3Wd3K3B2q"
      },
      "source": [
        "\n",
        "This notebook will download and tokenize a text dataset comprised of comments on Wikipedia which contain \"attacks\" on other users (plus counter-examples).\n",
        "\n",
        "We'll use `pandas` to parse the dataset `.tsv` file, and we'll use the gensim function `gensim.utils.simple_preprocess` for tokenizing the sentences.\n",
        "\n",
        "We'll save the processed dataset back to disk for use in other notebooks.\n",
        "\n",
        "**About the Dataset**\n",
        "\n",
        "* wikimedia page describing the dataset [here](https://figshare.com/articles/Wikipedia_Talk_Labels_Personal_Attacks/4054689).\n",
        "* Dataset download page on figshare.com for the personal attack comments [here](https://figshare.com/articles/Wikipedia_Talk_Labels_Personal_Attacks/4054689).\n",
        "    * `attack_annotated_comments.tsv  -  ` contains the comment text and some properties.\n",
        "    * `attack_annotations.tsv  -  ` contains the labels (whether the comment contains an attack).\n",
        "* Example notebook (from the authors) for getting started with the dataset [here](https://github.com/ewulczyn/wiki-detox/blob/master/src/figshare/Wikipedia%20Talk%20Data%20-%20Getting%20Started.ipynb)."
      ]
    },
    {
      "cell_type": "markdown",
      "metadata": {
        "id": "HAjyraFG4Abp"
      },
      "source": [
        "### 2.1. Download\n",
        "--------------------------------------\n",
        "Download the text."
      ]
    },
    {
      "cell_type": "code",
      "metadata": {
        "id": "Q-LF9NXd4Abp"
      },
      "source": [
        "import urllib\n",
        "import os\n",
        "\n",
        "# Create the data subdirectory if not there.\n",
        "if not os.path.exists('./data/'):\n",
        "    os.mkdir('./data/')\n",
        "\n",
        "files = [\n",
        "    ('./data/attack_annotated_comments.tsv',  'https://ndownloader.figshare.com/files/7554634'),\n",
        "    ('./data/attack_annotations.tsv',         'https://ndownloader.figshare.com/files/7554637')\n",
        "]\n",
        "\n",
        "for (filename, url) in files:\n",
        "    # Download download if we already have it!\n",
        "    if not os.path.exists(filename):\n",
        "\n",
        "        # Download the dataset.\n",
        "        print('Downloading', filename)\n",
        "\n",
        "        urllib.request.urlretrieve(url, filename)\n",
        "\n",
        "        print('  DONE.')\n",
        "\n"
      ],
      "execution_count": 49,
      "outputs": []
    },
    {
      "cell_type": "markdown",
      "metadata": {
        "id": "02NmUilP4Abs"
      },
      "source": [
        "### 2.2. Parse & Inspect\n",
        "-------------------\n",
        "We'll use `pandas` just to help us parse the tab-separated `.tsv` file.\n"
      ]
    },
    {
      "cell_type": "code",
      "metadata": {
        "id": "hkYdBEK44Abs",
        "colab": {
          "base_uri": "https://localhost:8080/"
        },
        "outputId": "cf591727-62a1-4772-fe62-21a2532defa7"
      },
      "source": [
        "import pandas as pd\n",
        "\n",
        "print('Parsing the dataset .tsv file...')\n",
        "comments = pd.read_csv('./data/attack_annotated_comments.tsv', sep = '\\t', index_col = 0)\n",
        "annotations = pd.read_csv('./data/attack_annotations.tsv', sep = '\\t')\n",
        "\n",
        "print('    Done.')"
      ],
      "execution_count": 50,
      "outputs": [
        {
          "output_type": "stream",
          "name": "stdout",
          "text": [
            "Parsing the dataset .tsv file...\n",
            "    Done.\n"
          ]
        }
      ]
    },
    {
      "cell_type": "markdown",
      "metadata": {
        "id": "4g_N5y3i-Mep"
      },
      "source": [
        "Let's take a look at the first few rows of the table just to see what's in there."
      ]
    },
    {
      "cell_type": "code",
      "metadata": {
        "id": "R5J0EPDh-DBZ",
        "colab": {
          "base_uri": "https://localhost:8080/",
          "height": 235
        },
        "outputId": "da3dc6e1-e1bb-4391-bc16-0dd0c1cfedba"
      },
      "source": [
        "# Display the first five rows of the table.\n",
        "comments.head()"
      ],
      "execution_count": 51,
      "outputs": [
        {
          "output_type": "execute_result",
          "data": {
            "text/plain": [
              "                                                  comment  year  logged_in  \\\n",
              "rev_id                                                                       \n",
              "37675   `-NEWLINE_TOKENThis is not ``creative``.  Thos...  2002      False   \n",
              "44816   `NEWLINE_TOKENNEWLINE_TOKEN:: the term ``stand...  2002      False   \n",
              "49851   NEWLINE_TOKENNEWLINE_TOKENTrue or false, the s...  2002      False   \n",
              "89320    Next, maybe you could work on being less cond...  2002       True   \n",
              "93890                This page will need disambiguation.   2002       True   \n",
              "\n",
              "             ns  sample  split  \n",
              "rev_id                          \n",
              "37675   article  random  train  \n",
              "44816   article  random  train  \n",
              "49851   article  random  train  \n",
              "89320   article  random    dev  \n",
              "93890   article  random  train  "
            ],
            "text/html": [
              "\n",
              "\n",
              "  <div id=\"df-c7c8bf33-353c-4293-b25e-f9066754a2af\">\n",
              "    <div class=\"colab-df-container\">\n",
              "      <div>\n",
              "<style scoped>\n",
              "    .dataframe tbody tr th:only-of-type {\n",
              "        vertical-align: middle;\n",
              "    }\n",
              "\n",
              "    .dataframe tbody tr th {\n",
              "        vertical-align: top;\n",
              "    }\n",
              "\n",
              "    .dataframe thead th {\n",
              "        text-align: right;\n",
              "    }\n",
              "</style>\n",
              "<table border=\"1\" class=\"dataframe\">\n",
              "  <thead>\n",
              "    <tr style=\"text-align: right;\">\n",
              "      <th></th>\n",
              "      <th>comment</th>\n",
              "      <th>year</th>\n",
              "      <th>logged_in</th>\n",
              "      <th>ns</th>\n",
              "      <th>sample</th>\n",
              "      <th>split</th>\n",
              "    </tr>\n",
              "    <tr>\n",
              "      <th>rev_id</th>\n",
              "      <th></th>\n",
              "      <th></th>\n",
              "      <th></th>\n",
              "      <th></th>\n",
              "      <th></th>\n",
              "      <th></th>\n",
              "    </tr>\n",
              "  </thead>\n",
              "  <tbody>\n",
              "    <tr>\n",
              "      <th>37675</th>\n",
              "      <td>`-NEWLINE_TOKENThis is not ``creative``.  Thos...</td>\n",
              "      <td>2002</td>\n",
              "      <td>False</td>\n",
              "      <td>article</td>\n",
              "      <td>random</td>\n",
              "      <td>train</td>\n",
              "    </tr>\n",
              "    <tr>\n",
              "      <th>44816</th>\n",
              "      <td>`NEWLINE_TOKENNEWLINE_TOKEN:: the term ``stand...</td>\n",
              "      <td>2002</td>\n",
              "      <td>False</td>\n",
              "      <td>article</td>\n",
              "      <td>random</td>\n",
              "      <td>train</td>\n",
              "    </tr>\n",
              "    <tr>\n",
              "      <th>49851</th>\n",
              "      <td>NEWLINE_TOKENNEWLINE_TOKENTrue or false, the s...</td>\n",
              "      <td>2002</td>\n",
              "      <td>False</td>\n",
              "      <td>article</td>\n",
              "      <td>random</td>\n",
              "      <td>train</td>\n",
              "    </tr>\n",
              "    <tr>\n",
              "      <th>89320</th>\n",
              "      <td>Next, maybe you could work on being less cond...</td>\n",
              "      <td>2002</td>\n",
              "      <td>True</td>\n",
              "      <td>article</td>\n",
              "      <td>random</td>\n",
              "      <td>dev</td>\n",
              "    </tr>\n",
              "    <tr>\n",
              "      <th>93890</th>\n",
              "      <td>This page will need disambiguation.</td>\n",
              "      <td>2002</td>\n",
              "      <td>True</td>\n",
              "      <td>article</td>\n",
              "      <td>random</td>\n",
              "      <td>train</td>\n",
              "    </tr>\n",
              "  </tbody>\n",
              "</table>\n",
              "</div>\n",
              "      <button class=\"colab-df-convert\" onclick=\"convertToInteractive('df-c7c8bf33-353c-4293-b25e-f9066754a2af')\"\n",
              "              title=\"Convert this dataframe to an interactive table.\"\n",
              "              style=\"display:none;\">\n",
              "\n",
              "  <svg xmlns=\"http://www.w3.org/2000/svg\" height=\"24px\"viewBox=\"0 0 24 24\"\n",
              "       width=\"24px\">\n",
              "    <path d=\"M0 0h24v24H0V0z\" fill=\"none\"/>\n",
              "    <path d=\"M18.56 5.44l.94 2.06.94-2.06 2.06-.94-2.06-.94-.94-2.06-.94 2.06-2.06.94zm-11 1L8.5 8.5l.94-2.06 2.06-.94-2.06-.94L8.5 2.5l-.94 2.06-2.06.94zm10 10l.94 2.06.94-2.06 2.06-.94-2.06-.94-.94-2.06-.94 2.06-2.06.94z\"/><path d=\"M17.41 7.96l-1.37-1.37c-.4-.4-.92-.59-1.43-.59-.52 0-1.04.2-1.43.59L10.3 9.45l-7.72 7.72c-.78.78-.78 2.05 0 2.83L4 21.41c.39.39.9.59 1.41.59.51 0 1.02-.2 1.41-.59l7.78-7.78 2.81-2.81c.8-.78.8-2.07 0-2.86zM5.41 20L4 18.59l7.72-7.72 1.47 1.35L5.41 20z\"/>\n",
              "  </svg>\n",
              "      </button>\n",
              "\n",
              "\n",
              "\n",
              "    <div id=\"df-a1919050-78ce-480b-b407-b96e0ddc9f2f\">\n",
              "      <button class=\"colab-df-quickchart\" onclick=\"quickchart('df-a1919050-78ce-480b-b407-b96e0ddc9f2f')\"\n",
              "              title=\"Suggest charts.\"\n",
              "              style=\"display:none;\">\n",
              "\n",
              "<svg xmlns=\"http://www.w3.org/2000/svg\" height=\"24px\"viewBox=\"0 0 24 24\"\n",
              "     width=\"24px\">\n",
              "    <g>\n",
              "        <path d=\"M19 3H5c-1.1 0-2 .9-2 2v14c0 1.1.9 2 2 2h14c1.1 0 2-.9 2-2V5c0-1.1-.9-2-2-2zM9 17H7v-7h2v7zm4 0h-2V7h2v10zm4 0h-2v-4h2v4z\"/>\n",
              "    </g>\n",
              "</svg>\n",
              "      </button>\n",
              "    </div>\n",
              "\n",
              "<style>\n",
              "  .colab-df-quickchart {\n",
              "    background-color: #E8F0FE;\n",
              "    border: none;\n",
              "    border-radius: 50%;\n",
              "    cursor: pointer;\n",
              "    display: none;\n",
              "    fill: #1967D2;\n",
              "    height: 32px;\n",
              "    padding: 0 0 0 0;\n",
              "    width: 32px;\n",
              "  }\n",
              "\n",
              "  .colab-df-quickchart:hover {\n",
              "    background-color: #E2EBFA;\n",
              "    box-shadow: 0px 1px 2px rgba(60, 64, 67, 0.3), 0px 1px 3px 1px rgba(60, 64, 67, 0.15);\n",
              "    fill: #174EA6;\n",
              "  }\n",
              "\n",
              "  [theme=dark] .colab-df-quickchart {\n",
              "    background-color: #3B4455;\n",
              "    fill: #D2E3FC;\n",
              "  }\n",
              "\n",
              "  [theme=dark] .colab-df-quickchart:hover {\n",
              "    background-color: #434B5C;\n",
              "    box-shadow: 0px 1px 3px 1px rgba(0, 0, 0, 0.15);\n",
              "    filter: drop-shadow(0px 1px 2px rgba(0, 0, 0, 0.3));\n",
              "    fill: #FFFFFF;\n",
              "  }\n",
              "</style>\n",
              "\n",
              "    <script>\n",
              "      async function quickchart(key) {\n",
              "        const containerElement = document.querySelector('#' + key);\n",
              "        const charts = await google.colab.kernel.invokeFunction(\n",
              "            'suggestCharts', [key], {});\n",
              "      }\n",
              "    </script>\n",
              "\n",
              "      <script>\n",
              "\n",
              "function displayQuickchartButton(domScope) {\n",
              "  let quickchartButtonEl =\n",
              "    domScope.querySelector('#df-a1919050-78ce-480b-b407-b96e0ddc9f2f button.colab-df-quickchart');\n",
              "  quickchartButtonEl.style.display =\n",
              "    google.colab.kernel.accessAllowed ? 'block' : 'none';\n",
              "}\n",
              "\n",
              "        displayQuickchartButton(document);\n",
              "      </script>\n",
              "      <style>\n",
              "    .colab-df-container {\n",
              "      display:flex;\n",
              "      flex-wrap:wrap;\n",
              "      gap: 12px;\n",
              "    }\n",
              "\n",
              "    .colab-df-convert {\n",
              "      background-color: #E8F0FE;\n",
              "      border: none;\n",
              "      border-radius: 50%;\n",
              "      cursor: pointer;\n",
              "      display: none;\n",
              "      fill: #1967D2;\n",
              "      height: 32px;\n",
              "      padding: 0 0 0 0;\n",
              "      width: 32px;\n",
              "    }\n",
              "\n",
              "    .colab-df-convert:hover {\n",
              "      background-color: #E2EBFA;\n",
              "      box-shadow: 0px 1px 2px rgba(60, 64, 67, 0.3), 0px 1px 3px 1px rgba(60, 64, 67, 0.15);\n",
              "      fill: #174EA6;\n",
              "    }\n",
              "\n",
              "    [theme=dark] .colab-df-convert {\n",
              "      background-color: #3B4455;\n",
              "      fill: #D2E3FC;\n",
              "    }\n",
              "\n",
              "    [theme=dark] .colab-df-convert:hover {\n",
              "      background-color: #434B5C;\n",
              "      box-shadow: 0px 1px 3px 1px rgba(0, 0, 0, 0.15);\n",
              "      filter: drop-shadow(0px 1px 2px rgba(0, 0, 0, 0.3));\n",
              "      fill: #FFFFFF;\n",
              "    }\n",
              "  </style>\n",
              "\n",
              "      <script>\n",
              "        const buttonEl =\n",
              "          document.querySelector('#df-c7c8bf33-353c-4293-b25e-f9066754a2af button.colab-df-convert');\n",
              "        buttonEl.style.display =\n",
              "          google.colab.kernel.accessAllowed ? 'block' : 'none';\n",
              "\n",
              "        async function convertToInteractive(key) {\n",
              "          const element = document.querySelector('#df-c7c8bf33-353c-4293-b25e-f9066754a2af');\n",
              "          const dataTable =\n",
              "            await google.colab.kernel.invokeFunction('convertToInteractive',\n",
              "                                                     [key], {});\n",
              "          if (!dataTable) return;\n",
              "\n",
              "          const docLinkHtml = 'Like what you see? Visit the ' +\n",
              "            '<a target=\"_blank\" href=https://colab.research.google.com/notebooks/data_table.ipynb>data table notebook</a>'\n",
              "            + ' to learn more about interactive tables.';\n",
              "          element.innerHTML = '';\n",
              "          dataTable['output_type'] = 'display_data';\n",
              "          await google.colab.output.renderOutput(dataTable, element);\n",
              "          const docLink = document.createElement('div');\n",
              "          docLink.innerHTML = docLinkHtml;\n",
              "          element.appendChild(docLink);\n",
              "        }\n",
              "      </script>\n",
              "    </div>\n",
              "  </div>\n"
            ]
          },
          "metadata": {},
          "execution_count": 51
        }
      ]
    },
    {
      "cell_type": "markdown",
      "metadata": {
        "id": "ds8e2hmtoMHe"
      },
      "source": [
        "The dataset is split into 'train', 'test', and 'dev'--how big are each of these?"
      ]
    },
    {
      "cell_type": "code",
      "metadata": {
        "id": "ON6STifKn_UW",
        "colab": {
          "base_uri": "https://localhost:8080/",
          "height": 173
        },
        "outputId": "3aceed2b-0c67-42a4-fd17-b62941815da2"
      },
      "source": [
        "comments[['comment', 'split']].groupby('split').count()"
      ],
      "execution_count": 52,
      "outputs": [
        {
          "output_type": "execute_result",
          "data": {
            "text/plain": [
              "       comment\n",
              "split         \n",
              "dev      23160\n",
              "test     23178\n",
              "train    69526"
            ],
            "text/html": [
              "\n",
              "\n",
              "  <div id=\"df-4eb59b95-51c7-4863-8eb4-c3177552fa64\">\n",
              "    <div class=\"colab-df-container\">\n",
              "      <div>\n",
              "<style scoped>\n",
              "    .dataframe tbody tr th:only-of-type {\n",
              "        vertical-align: middle;\n",
              "    }\n",
              "\n",
              "    .dataframe tbody tr th {\n",
              "        vertical-align: top;\n",
              "    }\n",
              "\n",
              "    .dataframe thead th {\n",
              "        text-align: right;\n",
              "    }\n",
              "</style>\n",
              "<table border=\"1\" class=\"dataframe\">\n",
              "  <thead>\n",
              "    <tr style=\"text-align: right;\">\n",
              "      <th></th>\n",
              "      <th>comment</th>\n",
              "    </tr>\n",
              "    <tr>\n",
              "      <th>split</th>\n",
              "      <th></th>\n",
              "    </tr>\n",
              "  </thead>\n",
              "  <tbody>\n",
              "    <tr>\n",
              "      <th>dev</th>\n",
              "      <td>23160</td>\n",
              "    </tr>\n",
              "    <tr>\n",
              "      <th>test</th>\n",
              "      <td>23178</td>\n",
              "    </tr>\n",
              "    <tr>\n",
              "      <th>train</th>\n",
              "      <td>69526</td>\n",
              "    </tr>\n",
              "  </tbody>\n",
              "</table>\n",
              "</div>\n",
              "      <button class=\"colab-df-convert\" onclick=\"convertToInteractive('df-4eb59b95-51c7-4863-8eb4-c3177552fa64')\"\n",
              "              title=\"Convert this dataframe to an interactive table.\"\n",
              "              style=\"display:none;\">\n",
              "\n",
              "  <svg xmlns=\"http://www.w3.org/2000/svg\" height=\"24px\"viewBox=\"0 0 24 24\"\n",
              "       width=\"24px\">\n",
              "    <path d=\"M0 0h24v24H0V0z\" fill=\"none\"/>\n",
              "    <path d=\"M18.56 5.44l.94 2.06.94-2.06 2.06-.94-2.06-.94-.94-2.06-.94 2.06-2.06.94zm-11 1L8.5 8.5l.94-2.06 2.06-.94-2.06-.94L8.5 2.5l-.94 2.06-2.06.94zm10 10l.94 2.06.94-2.06 2.06-.94-2.06-.94-.94-2.06-.94 2.06-2.06.94z\"/><path d=\"M17.41 7.96l-1.37-1.37c-.4-.4-.92-.59-1.43-.59-.52 0-1.04.2-1.43.59L10.3 9.45l-7.72 7.72c-.78.78-.78 2.05 0 2.83L4 21.41c.39.39.9.59 1.41.59.51 0 1.02-.2 1.41-.59l7.78-7.78 2.81-2.81c.8-.78.8-2.07 0-2.86zM5.41 20L4 18.59l7.72-7.72 1.47 1.35L5.41 20z\"/>\n",
              "  </svg>\n",
              "      </button>\n",
              "\n",
              "\n",
              "\n",
              "    <div id=\"df-e585f0b2-6d7e-4514-afce-2d93f29c97c5\">\n",
              "      <button class=\"colab-df-quickchart\" onclick=\"quickchart('df-e585f0b2-6d7e-4514-afce-2d93f29c97c5')\"\n",
              "              title=\"Suggest charts.\"\n",
              "              style=\"display:none;\">\n",
              "\n",
              "<svg xmlns=\"http://www.w3.org/2000/svg\" height=\"24px\"viewBox=\"0 0 24 24\"\n",
              "     width=\"24px\">\n",
              "    <g>\n",
              "        <path d=\"M19 3H5c-1.1 0-2 .9-2 2v14c0 1.1.9 2 2 2h14c1.1 0 2-.9 2-2V5c0-1.1-.9-2-2-2zM9 17H7v-7h2v7zm4 0h-2V7h2v10zm4 0h-2v-4h2v4z\"/>\n",
              "    </g>\n",
              "</svg>\n",
              "      </button>\n",
              "    </div>\n",
              "\n",
              "<style>\n",
              "  .colab-df-quickchart {\n",
              "    background-color: #E8F0FE;\n",
              "    border: none;\n",
              "    border-radius: 50%;\n",
              "    cursor: pointer;\n",
              "    display: none;\n",
              "    fill: #1967D2;\n",
              "    height: 32px;\n",
              "    padding: 0 0 0 0;\n",
              "    width: 32px;\n",
              "  }\n",
              "\n",
              "  .colab-df-quickchart:hover {\n",
              "    background-color: #E2EBFA;\n",
              "    box-shadow: 0px 1px 2px rgba(60, 64, 67, 0.3), 0px 1px 3px 1px rgba(60, 64, 67, 0.15);\n",
              "    fill: #174EA6;\n",
              "  }\n",
              "\n",
              "  [theme=dark] .colab-df-quickchart {\n",
              "    background-color: #3B4455;\n",
              "    fill: #D2E3FC;\n",
              "  }\n",
              "\n",
              "  [theme=dark] .colab-df-quickchart:hover {\n",
              "    background-color: #434B5C;\n",
              "    box-shadow: 0px 1px 3px 1px rgba(0, 0, 0, 0.15);\n",
              "    filter: drop-shadow(0px 1px 2px rgba(0, 0, 0, 0.3));\n",
              "    fill: #FFFFFF;\n",
              "  }\n",
              "</style>\n",
              "\n",
              "    <script>\n",
              "      async function quickchart(key) {\n",
              "        const containerElement = document.querySelector('#' + key);\n",
              "        const charts = await google.colab.kernel.invokeFunction(\n",
              "            'suggestCharts', [key], {});\n",
              "      }\n",
              "    </script>\n",
              "\n",
              "      <script>\n",
              "\n",
              "function displayQuickchartButton(domScope) {\n",
              "  let quickchartButtonEl =\n",
              "    domScope.querySelector('#df-e585f0b2-6d7e-4514-afce-2d93f29c97c5 button.colab-df-quickchart');\n",
              "  quickchartButtonEl.style.display =\n",
              "    google.colab.kernel.accessAllowed ? 'block' : 'none';\n",
              "}\n",
              "\n",
              "        displayQuickchartButton(document);\n",
              "      </script>\n",
              "      <style>\n",
              "    .colab-df-container {\n",
              "      display:flex;\n",
              "      flex-wrap:wrap;\n",
              "      gap: 12px;\n",
              "    }\n",
              "\n",
              "    .colab-df-convert {\n",
              "      background-color: #E8F0FE;\n",
              "      border: none;\n",
              "      border-radius: 50%;\n",
              "      cursor: pointer;\n",
              "      display: none;\n",
              "      fill: #1967D2;\n",
              "      height: 32px;\n",
              "      padding: 0 0 0 0;\n",
              "      width: 32px;\n",
              "    }\n",
              "\n",
              "    .colab-df-convert:hover {\n",
              "      background-color: #E2EBFA;\n",
              "      box-shadow: 0px 1px 2px rgba(60, 64, 67, 0.3), 0px 1px 3px 1px rgba(60, 64, 67, 0.15);\n",
              "      fill: #174EA6;\n",
              "    }\n",
              "\n",
              "    [theme=dark] .colab-df-convert {\n",
              "      background-color: #3B4455;\n",
              "      fill: #D2E3FC;\n",
              "    }\n",
              "\n",
              "    [theme=dark] .colab-df-convert:hover {\n",
              "      background-color: #434B5C;\n",
              "      box-shadow: 0px 1px 3px 1px rgba(0, 0, 0, 0.15);\n",
              "      filter: drop-shadow(0px 1px 2px rgba(0, 0, 0, 0.3));\n",
              "      fill: #FFFFFF;\n",
              "    }\n",
              "  </style>\n",
              "\n",
              "      <script>\n",
              "        const buttonEl =\n",
              "          document.querySelector('#df-4eb59b95-51c7-4863-8eb4-c3177552fa64 button.colab-df-convert');\n",
              "        buttonEl.style.display =\n",
              "          google.colab.kernel.accessAllowed ? 'block' : 'none';\n",
              "\n",
              "        async function convertToInteractive(key) {\n",
              "          const element = document.querySelector('#df-4eb59b95-51c7-4863-8eb4-c3177552fa64');\n",
              "          const dataTable =\n",
              "            await google.colab.kernel.invokeFunction('convertToInteractive',\n",
              "                                                     [key], {});\n",
              "          if (!dataTable) return;\n",
              "\n",
              "          const docLinkHtml = 'Like what you see? Visit the ' +\n",
              "            '<a target=\"_blank\" href=https://colab.research.google.com/notebooks/data_table.ipynb>data table notebook</a>'\n",
              "            + ' to learn more about interactive tables.';\n",
              "          element.innerHTML = '';\n",
              "          dataTable['output_type'] = 'display_data';\n",
              "          await google.colab.output.renderOutput(dataTable, element);\n",
              "          const docLink = document.createElement('div');\n",
              "          docLink.innerHTML = docLinkHtml;\n",
              "          element.appendChild(docLink);\n",
              "        }\n",
              "      </script>\n",
              "    </div>\n",
              "  </div>\n"
            ]
          },
          "metadata": {},
          "execution_count": 52
        }
      ]
    },
    {
      "cell_type": "code",
      "metadata": {
        "id": "1sc-53u0D9l2",
        "colab": {
          "base_uri": "https://localhost:8080/",
          "height": 204
        },
        "outputId": "ed01a368-d8bc-48db-a3e4-23849a60ba9a"
      },
      "source": [
        "annotations.head()"
      ],
      "execution_count": 53,
      "outputs": [
        {
          "output_type": "execute_result",
          "data": {
            "text/plain": [
              "   rev_id  worker_id  quoting_attack  recipient_attack  third_party_attack  \\\n",
              "0   37675       1362             0.0               0.0                 0.0   \n",
              "1   37675       2408             0.0               0.0                 0.0   \n",
              "2   37675       1493             0.0               0.0                 0.0   \n",
              "3   37675       1439             0.0               0.0                 0.0   \n",
              "4   37675        170             0.0               0.0                 0.0   \n",
              "\n",
              "   other_attack  attack  \n",
              "0           0.0     0.0  \n",
              "1           0.0     0.0  \n",
              "2           0.0     0.0  \n",
              "3           0.0     0.0  \n",
              "4           0.0     0.0  "
            ],
            "text/html": [
              "\n",
              "\n",
              "  <div id=\"df-0ed4401c-4436-4f60-8690-ff3351ae676e\">\n",
              "    <div class=\"colab-df-container\">\n",
              "      <div>\n",
              "<style scoped>\n",
              "    .dataframe tbody tr th:only-of-type {\n",
              "        vertical-align: middle;\n",
              "    }\n",
              "\n",
              "    .dataframe tbody tr th {\n",
              "        vertical-align: top;\n",
              "    }\n",
              "\n",
              "    .dataframe thead th {\n",
              "        text-align: right;\n",
              "    }\n",
              "</style>\n",
              "<table border=\"1\" class=\"dataframe\">\n",
              "  <thead>\n",
              "    <tr style=\"text-align: right;\">\n",
              "      <th></th>\n",
              "      <th>rev_id</th>\n",
              "      <th>worker_id</th>\n",
              "      <th>quoting_attack</th>\n",
              "      <th>recipient_attack</th>\n",
              "      <th>third_party_attack</th>\n",
              "      <th>other_attack</th>\n",
              "      <th>attack</th>\n",
              "    </tr>\n",
              "  </thead>\n",
              "  <tbody>\n",
              "    <tr>\n",
              "      <th>0</th>\n",
              "      <td>37675</td>\n",
              "      <td>1362</td>\n",
              "      <td>0.0</td>\n",
              "      <td>0.0</td>\n",
              "      <td>0.0</td>\n",
              "      <td>0.0</td>\n",
              "      <td>0.0</td>\n",
              "    </tr>\n",
              "    <tr>\n",
              "      <th>1</th>\n",
              "      <td>37675</td>\n",
              "      <td>2408</td>\n",
              "      <td>0.0</td>\n",
              "      <td>0.0</td>\n",
              "      <td>0.0</td>\n",
              "      <td>0.0</td>\n",
              "      <td>0.0</td>\n",
              "    </tr>\n",
              "    <tr>\n",
              "      <th>2</th>\n",
              "      <td>37675</td>\n",
              "      <td>1493</td>\n",
              "      <td>0.0</td>\n",
              "      <td>0.0</td>\n",
              "      <td>0.0</td>\n",
              "      <td>0.0</td>\n",
              "      <td>0.0</td>\n",
              "    </tr>\n",
              "    <tr>\n",
              "      <th>3</th>\n",
              "      <td>37675</td>\n",
              "      <td>1439</td>\n",
              "      <td>0.0</td>\n",
              "      <td>0.0</td>\n",
              "      <td>0.0</td>\n",
              "      <td>0.0</td>\n",
              "      <td>0.0</td>\n",
              "    </tr>\n",
              "    <tr>\n",
              "      <th>4</th>\n",
              "      <td>37675</td>\n",
              "      <td>170</td>\n",
              "      <td>0.0</td>\n",
              "      <td>0.0</td>\n",
              "      <td>0.0</td>\n",
              "      <td>0.0</td>\n",
              "      <td>0.0</td>\n",
              "    </tr>\n",
              "  </tbody>\n",
              "</table>\n",
              "</div>\n",
              "      <button class=\"colab-df-convert\" onclick=\"convertToInteractive('df-0ed4401c-4436-4f60-8690-ff3351ae676e')\"\n",
              "              title=\"Convert this dataframe to an interactive table.\"\n",
              "              style=\"display:none;\">\n",
              "\n",
              "  <svg xmlns=\"http://www.w3.org/2000/svg\" height=\"24px\"viewBox=\"0 0 24 24\"\n",
              "       width=\"24px\">\n",
              "    <path d=\"M0 0h24v24H0V0z\" fill=\"none\"/>\n",
              "    <path d=\"M18.56 5.44l.94 2.06.94-2.06 2.06-.94-2.06-.94-.94-2.06-.94 2.06-2.06.94zm-11 1L8.5 8.5l.94-2.06 2.06-.94-2.06-.94L8.5 2.5l-.94 2.06-2.06.94zm10 10l.94 2.06.94-2.06 2.06-.94-2.06-.94-.94-2.06-.94 2.06-2.06.94z\"/><path d=\"M17.41 7.96l-1.37-1.37c-.4-.4-.92-.59-1.43-.59-.52 0-1.04.2-1.43.59L10.3 9.45l-7.72 7.72c-.78.78-.78 2.05 0 2.83L4 21.41c.39.39.9.59 1.41.59.51 0 1.02-.2 1.41-.59l7.78-7.78 2.81-2.81c.8-.78.8-2.07 0-2.86zM5.41 20L4 18.59l7.72-7.72 1.47 1.35L5.41 20z\"/>\n",
              "  </svg>\n",
              "      </button>\n",
              "\n",
              "\n",
              "\n",
              "    <div id=\"df-57601dcc-817b-4d8c-8dca-aad36e14a9c5\">\n",
              "      <button class=\"colab-df-quickchart\" onclick=\"quickchart('df-57601dcc-817b-4d8c-8dca-aad36e14a9c5')\"\n",
              "              title=\"Suggest charts.\"\n",
              "              style=\"display:none;\">\n",
              "\n",
              "<svg xmlns=\"http://www.w3.org/2000/svg\" height=\"24px\"viewBox=\"0 0 24 24\"\n",
              "     width=\"24px\">\n",
              "    <g>\n",
              "        <path d=\"M19 3H5c-1.1 0-2 .9-2 2v14c0 1.1.9 2 2 2h14c1.1 0 2-.9 2-2V5c0-1.1-.9-2-2-2zM9 17H7v-7h2v7zm4 0h-2V7h2v10zm4 0h-2v-4h2v4z\"/>\n",
              "    </g>\n",
              "</svg>\n",
              "      </button>\n",
              "    </div>\n",
              "\n",
              "<style>\n",
              "  .colab-df-quickchart {\n",
              "    background-color: #E8F0FE;\n",
              "    border: none;\n",
              "    border-radius: 50%;\n",
              "    cursor: pointer;\n",
              "    display: none;\n",
              "    fill: #1967D2;\n",
              "    height: 32px;\n",
              "    padding: 0 0 0 0;\n",
              "    width: 32px;\n",
              "  }\n",
              "\n",
              "  .colab-df-quickchart:hover {\n",
              "    background-color: #E2EBFA;\n",
              "    box-shadow: 0px 1px 2px rgba(60, 64, 67, 0.3), 0px 1px 3px 1px rgba(60, 64, 67, 0.15);\n",
              "    fill: #174EA6;\n",
              "  }\n",
              "\n",
              "  [theme=dark] .colab-df-quickchart {\n",
              "    background-color: #3B4455;\n",
              "    fill: #D2E3FC;\n",
              "  }\n",
              "\n",
              "  [theme=dark] .colab-df-quickchart:hover {\n",
              "    background-color: #434B5C;\n",
              "    box-shadow: 0px 1px 3px 1px rgba(0, 0, 0, 0.15);\n",
              "    filter: drop-shadow(0px 1px 2px rgba(0, 0, 0, 0.3));\n",
              "    fill: #FFFFFF;\n",
              "  }\n",
              "</style>\n",
              "\n",
              "    <script>\n",
              "      async function quickchart(key) {\n",
              "        const containerElement = document.querySelector('#' + key);\n",
              "        const charts = await google.colab.kernel.invokeFunction(\n",
              "            'suggestCharts', [key], {});\n",
              "      }\n",
              "    </script>\n",
              "\n",
              "      <script>\n",
              "\n",
              "function displayQuickchartButton(domScope) {\n",
              "  let quickchartButtonEl =\n",
              "    domScope.querySelector('#df-57601dcc-817b-4d8c-8dca-aad36e14a9c5 button.colab-df-quickchart');\n",
              "  quickchartButtonEl.style.display =\n",
              "    google.colab.kernel.accessAllowed ? 'block' : 'none';\n",
              "}\n",
              "\n",
              "        displayQuickchartButton(document);\n",
              "      </script>\n",
              "      <style>\n",
              "    .colab-df-container {\n",
              "      display:flex;\n",
              "      flex-wrap:wrap;\n",
              "      gap: 12px;\n",
              "    }\n",
              "\n",
              "    .colab-df-convert {\n",
              "      background-color: #E8F0FE;\n",
              "      border: none;\n",
              "      border-radius: 50%;\n",
              "      cursor: pointer;\n",
              "      display: none;\n",
              "      fill: #1967D2;\n",
              "      height: 32px;\n",
              "      padding: 0 0 0 0;\n",
              "      width: 32px;\n",
              "    }\n",
              "\n",
              "    .colab-df-convert:hover {\n",
              "      background-color: #E2EBFA;\n",
              "      box-shadow: 0px 1px 2px rgba(60, 64, 67, 0.3), 0px 1px 3px 1px rgba(60, 64, 67, 0.15);\n",
              "      fill: #174EA6;\n",
              "    }\n",
              "\n",
              "    [theme=dark] .colab-df-convert {\n",
              "      background-color: #3B4455;\n",
              "      fill: #D2E3FC;\n",
              "    }\n",
              "\n",
              "    [theme=dark] .colab-df-convert:hover {\n",
              "      background-color: #434B5C;\n",
              "      box-shadow: 0px 1px 3px 1px rgba(0, 0, 0, 0.15);\n",
              "      filter: drop-shadow(0px 1px 2px rgba(0, 0, 0, 0.3));\n",
              "      fill: #FFFFFF;\n",
              "    }\n",
              "  </style>\n",
              "\n",
              "      <script>\n",
              "        const buttonEl =\n",
              "          document.querySelector('#df-0ed4401c-4436-4f60-8690-ff3351ae676e button.colab-df-convert');\n",
              "        buttonEl.style.display =\n",
              "          google.colab.kernel.accessAllowed ? 'block' : 'none';\n",
              "\n",
              "        async function convertToInteractive(key) {\n",
              "          const element = document.querySelector('#df-0ed4401c-4436-4f60-8690-ff3351ae676e');\n",
              "          const dataTable =\n",
              "            await google.colab.kernel.invokeFunction('convertToInteractive',\n",
              "                                                     [key], {});\n",
              "          if (!dataTable) return;\n",
              "\n",
              "          const docLinkHtml = 'Like what you see? Visit the ' +\n",
              "            '<a target=\"_blank\" href=https://colab.research.google.com/notebooks/data_table.ipynb>data table notebook</a>'\n",
              "            + ' to learn more about interactive tables.';\n",
              "          element.innerHTML = '';\n",
              "          dataTable['output_type'] = 'display_data';\n",
              "          await google.colab.output.renderOutput(dataTable, element);\n",
              "          const docLink = document.createElement('div');\n",
              "          docLink.innerHTML = docLinkHtml;\n",
              "          element.appendChild(docLink);\n",
              "        }\n",
              "      </script>\n",
              "    </div>\n",
              "  </div>\n"
            ]
          },
          "metadata": {},
          "execution_count": 53
        }
      ]
    },
    {
      "cell_type": "markdown",
      "metadata": {
        "id": "HWGVLwpiEBBq"
      },
      "source": [
        "Label the comments."
      ]
    },
    {
      "cell_type": "code",
      "metadata": {
        "id": "yzjfgDSvD_e_"
      },
      "source": [
        "# Label a comment as an atack if the majority of annoatators did so\n",
        "# The comments are uniquely identified by their 'rev_id'. The annotations table\n",
        "# has multiple rows for each comment because there were multiple labelers.\n",
        "labels = annotations.groupby('rev_id')['attack'].mean() > 0.5\n",
        "\n",
        "# Join labels and comments\n",
        "comments['attack'] = labels"
      ],
      "execution_count": 54,
      "outputs": []
    },
    {
      "cell_type": "code",
      "metadata": {
        "id": "h3VGly4EFu-V"
      },
      "source": [
        "# Remove newline and tab tokens\n",
        "comments['comment'] = comments['comment'].apply(lambda x: x.replace(\"NEWLINE_TOKEN\", \" \"))\n",
        "comments['comment'] = comments['comment'].apply(lambda x: x.replace(\"TAB_TOKEN\", \" \"))"
      ],
      "execution_count": 55,
      "outputs": []
    },
    {
      "cell_type": "markdown",
      "metadata": {
        "id": "OuXNkX_AENH3"
      },
      "source": [
        "Divide the dataset into training and test comments."
      ]
    },
    {
      "cell_type": "code",
      "metadata": {
        "id": "dB-QUstREMro"
      },
      "source": [
        "# fit a simple text classifier\n",
        "train_comments = comments.query(\"split=='train'\")\n",
        "test_comments = comments.query(\"split=='test'\")"
      ],
      "execution_count": 56,
      "outputs": []
    },
    {
      "cell_type": "markdown",
      "metadata": {
        "id": "kSsYUW3kFcBg"
      },
      "source": [
        "Display some of the comments labeled as containing an attack. Be prepared to see some terrible human behavior..."
      ]
    },
    {
      "cell_type": "code",
      "metadata": {
        "id": "CS94rpSbIUVg",
        "colab": {
          "base_uri": "https://localhost:8080/"
        },
        "outputId": "d95321f5-c39c-43d2-8dd1-1cb7e30eeb72"
      },
      "source": [
        "import textwrap\n",
        "import random\n",
        "\n",
        "# Wrap text to 80 characters.\n",
        "wrapper = textwrap.TextWrapper(width=80)\n",
        "\n",
        "# Filter to just the \"attack\" comments.\n",
        "attack_examples = train_comments.query('attack')['comment']\n",
        "\n",
        "# Randomly choose some examples.\n",
        "for i in range(10):\n",
        "    j = random.choice(attack_examples.index)\n",
        "\n",
        "    print('')\n",
        "    print(wrapper.fill(attack_examples[j]))\n",
        "    print('')\n"
      ],
      "execution_count": 57,
      "outputs": [
        {
          "output_type": "stream",
          "name": "stdout",
          "text": [
            "\n",
            "  I took my article down five years ago becuase people kept removing links and\n",
            "fucking with it. Then someone else put on up and I said OK. then I saw all the\n",
            "links had been removed and I fixed them. Now I have you neurotic shits fucking\n",
            "with it. Leve it alone or take it the fuck down.   This isn't about cruise\n",
            "ships, it's about women. I am constanlty under attack and I dont' need you\n",
            "abetting that. Fuck off.\n",
            "\n",
            "\n",
            " And you removed it! You numbskull! I don't care what you say anymore, this is\n",
            "my life! Go ahead with your own life, leave me alone! —\n",
            "\n",
            "\n",
            "  == Excuse me... ==  no, fuck you.\n",
            "\n",
            "\n",
            "  HOW MY TING VANDALISM ARE YOU DUMB ? I AM GOING TO BE FAMOUS THEN YOU WILL BE\n",
            "SORRY!\n",
            "\n",
            "\n",
            "  ==Then Assert Your Case; Please Do...==  You write:  :But that aside, in\n",
            "reading the section above this one, you almost sound as if you wish to be\n",
            "blocked.  ::I am not afraid, as you administrators appear to want us to be, in\n",
            "FEAR. I have found you to be, and I'm not suprized, to be in Chomskyen, 'NAKED.'\n",
            "::You are without clothes and, truth is, YOU, are afraid.  ::See, Truth ...\n",
            "terror ...\n",
            "\n",
            "\n",
            "you stupid bastard you cant tell me what to do i will fuck you up you fucking\n",
            "asshole\n",
            "\n",
            "\n",
            "   pardon the mentally ill. tom cant help it. he needs help.  and he loves black\n",
            "ass.\n",
            "\n",
            "\n",
            "  == Omicronpersei8  ==  Omicronpersei8 or more like Homocronperson8 who the\n",
            "fuck do you think you are I can use MY talk page for what I want!!!\n",
            "\n",
            "\n",
            "  == I did not do anything wrong ==  Why are you editing Wikipedia? Go home to\n",
            "Armenia and shut your mouth. you lie and make things up. Stop now your PKK\n",
            "vermin.\n",
            "\n",
            "\n",
            "  ==Upskirting== I enjoy looking up women's skirts.\n",
            "\n"
          ]
        }
      ]
    },
    {
      "cell_type": "markdown",
      "metadata": {
        "id": "nIpMl_JOLVyJ"
      },
      "source": [
        "What percentage of the comments are attacks?"
      ]
    },
    {
      "cell_type": "code",
      "metadata": {
        "id": "uXeWYWkGI8wQ",
        "colab": {
          "base_uri": "https://localhost:8080/"
        },
        "outputId": "6e88d907-a8fe-4fbf-faed-4ac61be37273"
      },
      "source": [
        "total_comments = len(comments)\n",
        "num_attacks = len(comments.query('attack'))\n",
        "\n",
        "print('{:,} of {:,} comments are attacks ({:.2%})'.format(num_attacks, total_comments, num_attacks/total_comments))"
      ],
      "execution_count": 58,
      "outputs": [
        {
          "output_type": "stream",
          "name": "stdout",
          "text": [
            "13,590 of 115,864 comments are attacks (11.73%)\n"
          ]
        }
      ]
    },
    {
      "cell_type": "markdown",
      "metadata": {
        "id": "AyFH45voLOqh"
      },
      "source": [
        "The classes are very imbalanced, so we have to be careful interpreting our accuracy..."
      ]
    },
    {
      "cell_type": "code",
      "metadata": {
        "id": "HFuMqCuYI-hA",
        "colab": {
          "base_uri": "https://localhost:8080/"
        },
        "outputId": "efc174ad-2111-477a-a785-174c57944eef"
      },
      "source": [
        "prcnt_non_attack = 1 - (len(test_comments.query('attack')) / len(test_comments))\n",
        "\n",
        "print('Always predicting \"not attack\" will yield {:.2%} accuracy on the test set.'.format(prcnt_non_attack))"
      ],
      "execution_count": 59,
      "outputs": [
        {
          "output_type": "stream",
          "name": "stdout",
          "text": [
            "Always predicting \"not attack\" will yield 88.11% accuracy on the test set.\n"
          ]
        }
      ]
    },
    {
      "cell_type": "markdown",
      "metadata": {
        "id": "2_HzeZqLFWeh"
      },
      "source": [
        "## 3. BERT Input Length Limitation"
      ]
    },
    {
      "cell_type": "markdown",
      "metadata": {
        "id": "k_qjYE4eFciL"
      },
      "source": [
        "BERT has a maximum input length of 512 tokens. In this section, we'll look at how this limitation affects us in practice, and some possible approaches for addressing it."
      ]
    },
    {
      "cell_type": "markdown",
      "metadata": {
        "id": "LtLgezLbFu2j"
      },
      "source": [
        "### 3.1. Examples of 512 Tokens"
      ]
    },
    {
      "cell_type": "markdown",
      "metadata": {
        "id": "DHMWrcA0F2gr"
      },
      "source": [
        "Let's look at an example comment which gets split into more than 512 tokens, so that we can get a sense for how much text fits within this limit.\n",
        "\n",
        "First we'll need to load the BERT tokenizer."
      ]
    },
    {
      "cell_type": "code",
      "metadata": {
        "id": "Z474sSC6oe7A",
        "colab": {
          "base_uri": "https://localhost:8080/"
        },
        "outputId": "6683b989-4d05-4c50-e8ed-e199b1fec1f2"
      },
      "source": [
        "from transformers import BertTokenizer\n",
        "\n",
        "# Load the BERT tokenizer.\n",
        "print('Loading BERT tokenizer...')\n",
        "tokenizer = BertTokenizer.from_pretrained('bert-base-uncased', do_lower_case=True)"
      ],
      "execution_count": 60,
      "outputs": [
        {
          "output_type": "stream",
          "name": "stdout",
          "text": [
            "Loading BERT tokenizer...\n"
          ]
        }
      ]
    },
    {
      "cell_type": "markdown",
      "metadata": {
        "id": "5MNbG8YcLVc7"
      },
      "source": [
        "The first comment in the training set happens to be longer than 512 tokens, and doesn't contain an attack (so we don't have to spend any more time than necessary looking at hateful garbage!).\n",
        "\n",
        "As a side note on this benchmark, it's interesting to see that this comment is certainly argumentative, and the author is in conflict with another user, but it *does not* contain a personal attack."
      ]
    },
    {
      "cell_type": "code",
      "metadata": {
        "id": "YCLWTdIbGN6b",
        "colab": {
          "base_uri": "https://localhost:8080/"
        },
        "outputId": "323ddb76-c0bf-43a7-b5c0-c573cfeac80b"
      },
      "source": [
        "# Retrieve the text of the first comment.\n",
        "text = train_comments.iloc[0].comment\n",
        "\n",
        "# Run the tokenizer to count up the number of tokens. The tokenizer will split\n",
        "# the text into words, punctuation, and subwords as needed.\n",
        "tokens = tokenizer.tokenize(text)\n",
        "\n",
        "print('Comment 0 (not an attack) contains {:,} WordPiece tokens.'.format(len(tokens)))\n",
        "print('\\nOriginal comment text:\\n')\n",
        "print(wrapper.fill(text))\n"
      ],
      "execution_count": 61,
      "outputs": [
        {
          "output_type": "stream",
          "name": "stdout",
          "text": [
            "Comment 0 (not an attack) contains 591 WordPiece tokens.\n",
            "\n",
            "Original comment text:\n",
            "\n",
            "`- This is not ``creative``.  Those are the dictionary definitions of the terms\n",
            "``insurance`` and ``ensurance`` as properly applied to ``destruction``.  If you\n",
            "don't understand that, fine, legitimate criticism, I'll write up ``three man\n",
            "cell`` and ``bounty hunter`` and then it will be easy to understand why\n",
            "``ensured`` and ``insured`` are different - and why both differ from\n",
            "``assured``.  The sentence you quote is absolutely neutral.  You just aren't\n",
            "familiar with the underlying theory of strike-back (e.g. submarines as employed\n",
            "in nuclear warfare) guiding the insurance, nor likely the three man cell\n",
            "structure that kept the IRA from being broken by the British.  If that's my\n",
            "fault, fine, I can fix that to explain.  But ther'es nothing ``personal`` or\n",
            "``creative`` about it.  I'm tired of arguing with you.  Re: the other article,\n",
            "``multi-party`` turns up plenty, and there is more use of ``mutually`` than\n",
            "``mutual``.  If I were to apply your standard I'd be moving ``Mutual Assured\n",
            "Destruction`` to ``talk`` for not appealing to a Reagan voter's biases about its\n",
            "effectiveness, and for dropping the ``ly``.  There is a double standard in your\n",
            "edits.  If it comes from some US history book, like ``peace movement`` or\n",
            "'M.A.D.' as defined in 1950, you like it, even if the definition is totally\n",
            "useless in 2002 and only of historical interest.    If it makes any even-obvious\n",
            "connection or implication from the language chosen in multiple profession-\n",
            "specific terms, you consider it somehow non-neutral...  Gandhi thinks ``eye for\n",
            "an eye`` describes riots, death penalty, and war all at once, but you don't.\n",
            "What do you know that Gandhi doesn't?  Guess what:  reality is not neutral.\n",
            "Current use of terms is slightly more controversial.  Neutrality requires\n",
            "negotiation, and some willingness to learn.  This is your problem not mine.  You\n",
            "may dislike the writing, fine, that can be fixed.  But disregarding fundamental\n",
            "axioms of philosphy with names that recur in multiple phrases, or failing to\n",
            "make critical distinctions like 'insurance' versus 'assurance' versus\n",
            "'ensurance' (which are made in one quote by an Air Force general in an in-\n",
            "context quote), is just a disservice to the reader.  If someone comes here to\n",
            "research a topic like MAD, they want some context, beyond history.  If this is a\n",
            "history book, fine, it's a history book.  But that wasn't what it was claimed to\n",
            "be... `\n"
          ]
        }
      ]
    },
    {
      "cell_type": "markdown",
      "metadata": {
        "id": "ZMOatOiUJ2nb"
      },
      "source": [
        "Let's see how this text looks broken into tokens. We'll separate the first 512 tokens from the balance, in order to see how much text we'd lose by truncating."
      ]
    },
    {
      "cell_type": "code",
      "metadata": {
        "id": "UsLEUFvbJ58m",
        "colab": {
          "base_uri": "https://localhost:8080/"
        },
        "outputId": "88294c57-174d-4f81-c490-b182f0c3e425"
      },
      "source": [
        "# Print out the list of tokens\n",
        "print('==== First 512 tokens: ====\\n')\n",
        "print(wrapper.fill(str(' '.join(tokens[0:512]))))\n",
        "\n",
        "print('')\n",
        "\n",
        "print('\\n==== Remaining {:,} tokens: ====\\n'.format(len(tokens) - 512))\n",
        "print(wrapper.fill(str(' '.join(tokens[512:]))))"
      ],
      "execution_count": 62,
      "outputs": [
        {
          "output_type": "stream",
          "name": "stdout",
          "text": [
            "==== First 512 tokens: ====\n",
            "\n",
            "` - this is not ` ` creative ` ` . those are the dictionary definitions of the\n",
            "terms ` ` insurance ` ` and ` ` en ##sur ##ance ` ` as properly applied to ` `\n",
            "destruction ` ` . if you don ' t understand that , fine , legitimate criticism ,\n",
            "i ' ll write up ` ` three man cell ` ` and ` ` bounty hunter ` ` and then it\n",
            "will be easy to understand why ` ` ensured ` ` and ` ` ins ##ured ` ` are\n",
            "different - and why both differ from ` ` assured ` ` . the sentence you quote is\n",
            "absolutely neutral . you just aren ' t familiar with the underlying theory of\n",
            "strike - back ( e . g . submarines as employed in nuclear warfare ) guiding the\n",
            "insurance , nor likely the three man cell structure that kept the ira from being\n",
            "broken by the british . if that ' s my fault , fine , i can fix that to explain\n",
            ". but the ##r ' es nothing ` ` personal ` ` or ` ` creative ` ` about it . i ' m\n",
            "tired of arguing with you . re : the other article , ` ` multi - party ` ` turns\n",
            "up plenty , and there is more use of ` ` mutually ` ` than ` ` mutual ` ` . if i\n",
            "were to apply your standard i ' d be moving ` ` mutual assured destruction ` `\n",
            "to ` ` talk ` ` for not appealing to a reagan voter ' s bias ##es about its\n",
            "effectiveness , and for dropping the ` ` l ##y ` ` . there is a double standard\n",
            "in your edit ##s . if it comes from some us history book , like ` ` peace\n",
            "movement ` ` or ' m . a . d . ' as defined in 1950 , you like it , even if the\n",
            "definition is totally useless in 2002 and only of historical interest . if it\n",
            "makes any even - obvious connection or implication from the language chosen in\n",
            "multiple profession - specific terms , you consider it somehow non - neutral . .\n",
            ". gandhi thinks ` ` eye for an eye ` ` describes riots , death penalty , and war\n",
            "all at once , but you don ' t . what do you know that gandhi doesn ' t ? guess\n",
            "what : reality is not neutral . current use of terms is slightly more\n",
            "controversial . neutrality requires negotiation , and some willingness to learn\n",
            ". this is your problem not mine . you may dislike the writing , fine , that can\n",
            "be fixed . but disregard ##ing fundamental ax ##ioms of phil ##os ##phy with\n",
            "names that rec ##ur in multiple phrases , or failing to make critical\n",
            "distinctions like ' insurance ' versus ' assurance ' versus ' en ##sur ##ance '\n",
            "( which\n",
            "\n",
            "\n",
            "==== Remaining 79 tokens: ====\n",
            "\n",
            "are made in one quote by an air force general in an in - context quote ) , is\n",
            "just a di ##sser ##vic ##e to the reader . if someone comes here to research a\n",
            "topic like mad , they want some context , beyond history . if this is a history\n",
            "book , fine , it ' s a history book . but that wasn ' t what it was claimed to\n",
            "be . . . `\n"
          ]
        }
      ]
    },
    {
      "cell_type": "markdown",
      "metadata": {
        "id": "PgDXdOCkMqsq"
      },
      "source": [
        "This comment contains a lot of punctuation (many quotes and some parentheses) which each end up as a separate token for BERT.\n",
        "\n",
        "Out of curiosity, let's look at how many actual words and sentences this text contains versus tokens."
      ]
    },
    {
      "cell_type": "code",
      "metadata": {
        "id": "Zl8_SY3LIEAw",
        "colab": {
          "base_uri": "https://localhost:8080/"
        },
        "outputId": "f01f8cee-bbbd-4d56-a8f5-a8660fc0d894"
      },
      "source": [
        "# First truncate the text to remove the last 79 tokens (which begin with the\n",
        "# words \"are made in\").\n",
        "last_char = text.find('are made in')\n",
        "\n",
        "# Truncate the text to only what fits in the 512 tokens.\n",
        "text = text[0:last_char]\n",
        "\n",
        "# Estimate the number of words in the comment by splitting it on whitespace.\n",
        "# First remove all double spaces.\n",
        "text = text.replace('  ', ' ')\n",
        "num_words = len(text.split(' '))\n",
        "\n",
        "print('Comment contains ~{:,} words.'.format(num_words))\n",
        "\n",
        "# Estimate the number of sentences by counting up the periods.\n",
        "num_sens = text.count('. ')\n",
        "\n",
        "print('Comment contains ~{:,} sentences.'.format(num_sens))"
      ],
      "execution_count": 63,
      "outputs": [
        {
          "output_type": "stream",
          "name": "stdout",
          "text": [
            "Comment contains ~330 words.\n",
            "Comment contains ~20 sentences.\n"
          ]
        }
      ]
    },
    {
      "cell_type": "markdown",
      "metadata": {
        "id": "gMtJGHOZOVIA"
      },
      "source": [
        "### 3.2. Strategies for Longer Text\n",
        "\n",
        "Key points:\n",
        "* There's no *obvious* solution, but we'll cover a number of ideas to try.\n",
        "* Looking at the statistics of your dataset should help when choosing your strategy. We'll do this in section 3.3.\n",
        "\n",
        "There was a [paper published](https://arxiv.org/pdf/1905.05583.pdf) recently that investigated this problem and experimented with a few approaches.  Check out section 5.3. specifically.\n",
        "\n",
        "[![BERT Text Classification Paper](https://drive.google.com/uc?export=view&id=1d9p_Ks5RUtFdKr_Fv5Oaie4HywRS4Zzg)](https://drive.google.com/uc?export=view&id=1d9p_Ks5RUtFdKr_Fv5Oaie4HywRS4Zzg)\n",
        "\n"
      ]
    },
    {
      "cell_type": "markdown",
      "metadata": {
        "id": "eVdyb7BXkMz8"
      },
      "source": [
        "\n",
        "**Truncation**\n",
        "\n",
        "The simplest approach is just to drop some of the tokens, and hope that the remaining text is enough to perform the task well.\n",
        "\n",
        "You could drop tokens:\n",
        "* From the beginning of the text.\n",
        "* At the end of the text.\n",
        "* In the middle of the text.\n",
        "\n",
        "In the above paper, their experiments on the IMDb movie review dataset showed that keeping the first 128 tokens and the last 382 tokens performed best. (Note: This adds up to 510 tokens, leaving room for the special `[CLS]` and `[SEP]` tokens that we have to append to the beginning and the end of the text, respectively).\n",
        "\n",
        "Perhaps this is because, when writing something like a movie review, we tend to put our high-level points in the introduction and conclusion?\n"
      ]
    },
    {
      "cell_type": "markdown",
      "metadata": {
        "id": "J6jNPuLHkPRU"
      },
      "source": [
        "\n",
        "**Chunking**\n",
        "\n",
        "Another approach attempted by the authors (and also proposed in [this thread](https://github.com/google-research/bert/issues/650) in the BERT GitHub repo) would be to divide the text into 512-token chunks and generate embeddings for these chunks separately.\n",
        "\n",
        "The authors of the paper combined the embeddings for the different chunks before performing the final classification. They tried several \"pooling\" strategies, such as averaging the embeddings together. None of these approaches outperformed the simple truncation approach, however.\n",
        "\n",
        "In the GitHub discussion above, the user suggested instead classifying the chunks separately and then averaging together the predictions.\n",
        "\n",
        "Mariano Kamp, in a comment on my YouTube video, also made the insightful observation that these \"chunking\" approaches could be computationly expensive when dealing with lengthy documents.\n",
        "\n",
        "I've included another Notebook in this tutorial which employs the chunking strategy, [Wikipedia Comments - Chunking Approach.ipynb](https://colab.research.google.com/drive/1A-Cq9OZZ6DcU2iy328DWGWlBWx96K5jo?usp=sharing).\n"
      ]
    },
    {
      "cell_type": "markdown",
      "metadata": {
        "id": "RLQN-3Y95R1p"
      },
      "source": [
        "** BERT Variants**\n",
        "\n",
        "\n",
        "Various research groups have also tried modifying BERT's architecture to enable it to support longer input sequences.\n",
        "\n",
        "Two of the most practical examples are *Longformer* (from Allen AI) and *BigBird* (from Google), which can handle up to 8x longer sequences than BERT. These two models are very similar, with BigBird being the slightly more recent model intended to improve over Longformer.\n",
        "\n",
        "BigBird largely retains BERT's architecture, but uses a technique called \"Sparse Attention\" to trade off accuracy for longer sequence length.\n",
        "\n"
      ]
    },
    {
      "cell_type": "markdown",
      "metadata": {
        "id": "-8kEDRvShcU5"
      },
      "source": [
        "### 3.3. Comment Length Distribution"
      ]
    },
    {
      "cell_type": "markdown",
      "metadata": {
        "id": "OGkq8hQJfqZY"
      },
      "source": [
        "To decide on a truncation strategy for this dataset, let's first look at the distribution of comment lenghts.\n",
        "\n",
        "To do this, our first step is to tokenize all of the comments in the training set."
      ]
    },
    {
      "cell_type": "markdown",
      "metadata": {
        "id": "1M296yz577fV"
      },
      "source": [
        "**Tokenize All Comments**\n",
        "\n",
        "The `tokenizer.encode` function combines multiple steps for us:\n",
        "1. Split the sentence into tokens.\n",
        "2. Add the special `[CLS]` and `[SEP]` tokens.\n",
        "3. Map the tokens to their IDs.\n",
        "\n",
        "In order to explore the distribution of comment lengths, we will not perform any truncation here. Unfortunately, this results in the tokenizer spitting out a warning for every comment that's longer than 512 tokens. We'll just have to ignore those for now!"
      ]
    },
    {
      "cell_type": "code",
      "metadata": {
        "id": "2bBdb3pt8LuQ",
        "colab": {
          "base_uri": "https://localhost:8080/"
        },
        "outputId": "99e592d5-43c4-4f27-9062-57c1d212b4e2"
      },
      "source": [
        "import numpy as np\n",
        "\n",
        "# Tokenize all of the sentences and map the tokens to thier word IDs.\n",
        "input_ids = []\n",
        "\n",
        "# Record the length of each sequence (after truncating to 512).\n",
        "lengths = []\n",
        "\n",
        "print('Tokenizing comments...')\n",
        "\n",
        "# For every sentence...\n",
        "for sen in train_comments.comment:\n",
        "\n",
        "    # Report progress.\n",
        "    if ((len(input_ids) % 20000) == 0):\n",
        "        print('  Read {:,} comments.'.format(len(input_ids)))\n",
        "\n",
        "    # `encode` will:\n",
        "    #   (1) Tokenize the sentence.\n",
        "    #   (2) Prepend the `[CLS]` token to the start.\n",
        "    #   (3) Append the `[SEP]` token to the end.\n",
        "    #   (4) Map tokens to their IDs.\n",
        "    encoded_sent = tokenizer.encode(\n",
        "                        sen,                      # Sentence to encode.\n",
        "                        add_special_tokens = True, # Add '[CLS]' and '[SEP]'\n",
        "                        #max_length = 512,          # Truncate all sentences.\n",
        "                        #return_tensors = 'pt',     # Return pytorch tensors.\n",
        "                   )\n",
        "\n",
        "    # Add the encoded sentence to the list.\n",
        "    input_ids.append(encoded_sent)\n",
        "\n",
        "    # Record the truncated length.\n",
        "    lengths.append(len(encoded_sent))\n",
        "\n",
        "print('DONE.')\n",
        "print('{:>10,} comments'.format(len(input_ids)))"
      ],
      "execution_count": 64,
      "outputs": [
        {
          "output_type": "stream",
          "name": "stderr",
          "text": [
            "Token indices sequence length is longer than the specified maximum sequence length for this model (593 > 512). Running this sequence through the model will result in indexing errors\n"
          ]
        },
        {
          "output_type": "stream",
          "name": "stdout",
          "text": [
            "Tokenizing comments...\n",
            "  Read 0 comments.\n",
            "  Read 20,000 comments.\n",
            "  Read 40,000 comments.\n",
            "  Read 60,000 comments.\n",
            "DONE.\n",
            "    69,526 comments\n"
          ]
        }
      ]
    },
    {
      "cell_type": "markdown",
      "metadata": {
        "id": "UH5qOkWMgrg0"
      },
      "source": [
        "Before we continue, let's also retrieve the comment labels, and check out the class distribution for this dataset."
      ]
    },
    {
      "cell_type": "code",
      "metadata": {
        "id": "se0cC1GD2ZCa",
        "colab": {
          "base_uri": "https://localhost:8080/"
        },
        "outputId": "f7089fdb-8bda-45ce-e5e7-efe50fe5a233"
      },
      "source": [
        "# Also retrieve the labels as a list.\n",
        "\n",
        "# Get the labels from the DataFrame, and convert from booleans to ints.\n",
        "labels = train_comments.attack.to_numpy().astype(int)\n",
        "\n",
        "print('{:>7,} positive (contains attack)'.format(np.sum(labels)))\n",
        "print('{:>7,} negative (not an attack)'.format(len(labels) - np.sum(labels)))"
      ],
      "execution_count": 65,
      "outputs": [
        {
          "output_type": "stream",
          "name": "stdout",
          "text": [
            "  8,079 positive (contains attack)\n",
            " 61,447 negative (not an attack)\n"
          ]
        }
      ]
    },
    {
      "cell_type": "markdown",
      "metadata": {
        "id": "X_erWZU7hDTB"
      },
      "source": [
        "Let's grab some quick statistics--what are the min, max and median comment lenghts?"
      ]
    },
    {
      "cell_type": "code",
      "metadata": {
        "id": "qmrQVSsjg6By",
        "colab": {
          "base_uri": "https://localhost:8080/"
        },
        "outputId": "1ac71221-6164-4a1d-f892-50b626eb3377"
      },
      "source": [
        "print('   Min length: {:,} tokens'.format(min(lengths)))\n",
        "print('   Max length: {:,} tokens'.format(max(lengths)))\n",
        "print('Median length: {:,} tokens'.format(np.median(lengths)))"
      ],
      "execution_count": 66,
      "outputs": [
        {
          "output_type": "stream",
          "name": "stdout",
          "text": [
            "   Min length: 2 tokens\n",
            "   Max length: 9,861 tokens\n",
            "Median length: 52.0 tokens\n"
          ]
        }
      ]
    },
    {
      "cell_type": "markdown",
      "metadata": {
        "id": "xytsw1oIfnX0"
      },
      "source": [
        "To further analyze it, let's plot the distribution. To keep the scale of the x-axis reasonable, *we'll clip the lengths to 512.*\n"
      ]
    },
    {
      "cell_type": "code",
      "metadata": {
        "id": "iLhi9A49zmsy",
        "colab": {
          "base_uri": "https://localhost:8080/",
          "height": 719
        },
        "outputId": "6266cb9f-fa9d-431b-f73c-1016fe65cc85"
      },
      "source": [
        "import matplotlib.pyplot as plt\n",
        "import seaborn as sns\n",
        "import numpy as np\n",
        "\n",
        "sns.set(style='darkgrid')\n",
        "\n",
        "# Increase the plot size and font size.\n",
        "sns.set(font_scale=1.5)\n",
        "plt.rcParams[\"figure.figsize\"] = (10,5)\n",
        "\n",
        "# Truncate any comment lengths greater than 512.\n",
        "lengths = [min(l, 512) for l in lengths]\n",
        "\n",
        "# Plot the distribution of comment lengths.\n",
        "sns.distplot(lengths, kde=False, rug=False)\n",
        "\n",
        "# Alternatively, you might try using a log scale on the x-axis, but this is\n",
        "# tricky. See here for one approach:\n",
        "# https://stackoverflow.com/questions/47850202/plotting-a-histogram-on-a-log-scale-with-matplotlib?rq=1\n",
        "#plt.xscale('log')\n",
        "\n",
        "plt.title('Comment Lengths')\n",
        "plt.xlabel('Comment Length')\n",
        "plt.ylabel('# of Comments')\n"
      ],
      "execution_count": 67,
      "outputs": [
        {
          "output_type": "stream",
          "name": "stderr",
          "text": [
            "<ipython-input-67-6e3d5755b4cf>:15: UserWarning: \n",
            "\n",
            "`distplot` is a deprecated function and will be removed in seaborn v0.14.0.\n",
            "\n",
            "Please adapt your code to use either `displot` (a figure-level function with\n",
            "similar flexibility) or `histplot` (an axes-level function for histograms).\n",
            "\n",
            "For a guide to updating your code to use the new functions, please see\n",
            "https://gist.github.com/mwaskom/de44147ed2974457ad6372750bbe5751\n",
            "\n",
            "  sns.distplot(lengths, kde=False, rug=False)\n"
          ]
        },
        {
          "output_type": "execute_result",
          "data": {
            "text/plain": [
              "Text(0, 0.5, '# of Comments')"
            ]
          },
          "metadata": {},
          "execution_count": 67
        },
        {
          "output_type": "display_data",
          "data": {
            "text/plain": [
              "<Figure size 1000x500 with 1 Axes>"
            ],
            "image/png": "[encoded data removed]"
          },
          "metadata": {}
        }
      ]
    },
    {
      "cell_type": "markdown",
      "metadata": {
        "id": "hvs9RvI2dLNE"
      },
      "source": [
        "Clearly most comments are \"short\", and there's a long tail of longer comments.\n",
        "\n",
        "Just how many of the examples run into the 512-token limit?"
      ]
    },
    {
      "cell_type": "code",
      "metadata": {
        "id": "SGd5i3ZvaWXu",
        "colab": {
          "base_uri": "https://localhost:8080/"
        },
        "outputId": "6dc43f3d-7854-44a6-9823-ca0ccd5cac5b"
      },
      "source": [
        "# Count the number of sentences that had to be truncated to 512 tokens.\n",
        "num_truncated = lengths.count(512)\n",
        "\n",
        "# Compare this to the total number of training sentences.\n",
        "num_sentences = len(lengths)\n",
        "prcnt = float(num_truncated) / float(num_sentences)\n",
        "\n",
        "print('{:,} of {:,} sentences ({:.1%}) in the training set are longer than 512 tokens.'.format(num_truncated, num_sentences, prcnt))"
      ],
      "execution_count": 68,
      "outputs": [
        {
          "output_type": "stream",
          "name": "stdout",
          "text": [
            "1,668 of 69,526 sentences (2.4%) in the training set are longer than 512 tokens.\n"
          ]
        }
      ]
    },
    {
      "cell_type": "markdown",
      "metadata": {
        "id": "45Ej0qXsdaSL"
      },
      "source": [
        "And of those, how many contain personal attacks?"
      ]
    },
    {
      "cell_type": "code",
      "metadata": {
        "id": "B2MwV9oGNF3A",
        "colab": {
          "base_uri": "https://localhost:8080/"
        },
        "outputId": "5365f3c6-3f77-45da-f335-e6896d4a253b"
      },
      "source": [
        "# Tally up how many of the truncated sentences are positive vs. negative examples.\n",
        "num_pos = 0\n",
        "num_neg = 0\n",
        "\n",
        "# Iterate through the comment lengths...\n",
        "for i, l in enumerate(lengths):\n",
        "\n",
        "    # If the sentence was truncated...\n",
        "    if l == 512:\n",
        "\n",
        "        # Tally up whether it contains a personal attack or not.\n",
        "        if labels[i] == 1:\n",
        "            num_pos += 1\n",
        "        else:\n",
        "            num_neg += 1\n",
        "\n",
        "# Report the total.\n",
        "print('{:,} ({:.1%}) of the truncated examples contain a personal attack.'.format(num_pos, num_pos / (num_neg + num_pos)))"
      ],
      "execution_count": 69,
      "outputs": [
        {
          "output_type": "stream",
          "name": "stdout",
          "text": [
            "202 (12.1%) of the truncated examples contain a personal attack.\n"
          ]
        }
      ]
    },
    {
      "cell_type": "markdown",
      "metadata": {
        "id": "RM8rJXDzdqfk"
      },
      "source": [
        "Interesting! I think this makes sense, given that you wouldn't typically expect for hateful comments to be long and well-reasoned :)."
      ]
    },
    {
      "cell_type": "markdown",
      "metadata": {
        "id": "PNJJ2n6qeqBz"
      },
      "source": [
        "### 3.4. Pad & Truncate the Comments"
      ]
    },
    {
      "cell_type": "markdown",
      "metadata": {
        "id": "hp-54FcQ_p3h"
      },
      "source": [
        "I think it seems safe to truncate our comments to 512 tokens.\n",
        "\n",
        "Not only that, but I think we can get away with an even shorter sequence length to speed things up. I've picked a max length of 128, since this is around the \"elbow\" of the distribution.\n",
        "\n",
        "We can always try longer lengths later to see how much this improves our results."
      ]
    },
    {
      "cell_type": "code",
      "metadata": {
        "id": "Cp9BPRd1tMIo",
        "colab": {
          "base_uri": "https://localhost:8080/"
        },
        "outputId": "1a1c263f-5525-4b80-e0a1-4826b6054bf8"
      },
      "source": [
        "# We'll borrow the `pad_sequences` utility function to do this\n",
        "import keras\n",
        "from keras.utils import pad_sequences\n",
        "\n",
        "# Set the required sequence length.\n",
        "MAX_LEN = 128\n",
        "\n",
        "print('\\nPadding/truncating all sentences to %d values...' % MAX_LEN)\n",
        "\n",
        "print('\\nPadding token: \"{:}\", ID: {:}'.format(tokenizer.pad_token, tokenizer.pad_token_id))\n",
        "\n",
        "# Pad our input tokens with value 0.\n",
        "input_ids = pad_sequences(input_ids, maxlen=MAX_LEN, dtype=\"long\",\n",
        "                          value=0, truncating=\"post\", padding=\"post\")\n",
        "\n",
        "print('\\nDone.')"
      ],
      "execution_count": 70,
      "outputs": [
        {
          "output_type": "stream",
          "name": "stdout",
          "text": [
            "\n",
            "Padding/truncating all sentences to 128 values...\n",
            "\n",
            "Padding token: \"[PAD]\", ID: 0\n",
            "\n",
            "Done.\n"
          ]
        }
      ]
    },
    {
      "cell_type": "markdown",
      "metadata": {
        "id": "kDs-MYtYH8sL"
      },
      "source": [
        "**Attention Masks**"
      ]
    },
    {
      "cell_type": "markdown",
      "metadata": {
        "id": "KhGulL1pExCT"
      },
      "source": [
        "The attention mask simply makes it explicit which tokens are actual words versus which are padding.\n",
        "\n",
        "The BERT vocabulary does not use the ID 0, so if a token ID is 0, then it's padding, and otherwise it's a real token."
      ]
    },
    {
      "cell_type": "code",
      "metadata": {
        "id": "cDoC24LeEv3N"
      },
      "source": [
        "# Create attention masks\n",
        "attention_masks = []\n",
        "\n",
        "# For each sentence...\n",
        "for sent in input_ids:\n",
        "\n",
        "    # Create the attention mask.\n",
        "    #   - If a token ID is 0, then it's padding, set the mask to 0.\n",
        "    #   - If a token ID is > 0, then it's a real token, set the mask to 1.\n",
        "    att_mask = [int(token_id > 0) for token_id in sent]\n",
        "\n",
        "    # Store the attention mask for this sentence.\n",
        "    attention_masks.append(att_mask)"
      ],
      "execution_count": 71,
      "outputs": []
    },
    {
      "cell_type": "markdown",
      "metadata": {
        "id": "aRp4O7D295d_"
      },
      "source": [
        "### 3.5. Final Data Prep\n"
      ]
    },
    {
      "cell_type": "markdown",
      "metadata": {
        "id": "M7H2mkr0kFng"
      },
      "source": [
        "We a few small data preparation steps to complete before we can move on to training and test."
      ]
    },
    {
      "cell_type": "markdown",
      "metadata": {
        "id": "qu0ao7p8rb06"
      },
      "source": [
        "(1) Divide up our training set to use 90% for training and 10% for validation."
      ]
    },
    {
      "cell_type": "code",
      "metadata": {
        "id": "aFbE-UHvsb7-"
      },
      "source": [
        "# Use train_test_split to split our data into train and validation sets for\n",
        "# training\n",
        "from sklearn.model_selection import train_test_split\n",
        "\n",
        "# Use 90% for training and 10% for validation.\n",
        "train_inputs, validation_inputs, train_labels, validation_labels = train_test_split(input_ids, labels,\n",
        "                                                            random_state=2018, test_size=0.1)\n",
        "# Do the same for the masks.\n",
        "train_masks, validation_masks, _, _ = train_test_split(attention_masks, labels,\n",
        "                                             random_state=2018, test_size=0.1)"
      ],
      "execution_count": 72,
      "outputs": []
    },
    {
      "cell_type": "markdown",
      "metadata": {
        "id": "6p1uXczp-Je4"
      },
      "source": [
        "(2) Our model expects PyTorch tensors rather than numpy.ndarrays, so convert all of our dataset variables."
      ]
    },
    {
      "cell_type": "code",
      "metadata": {
        "id": "jw5K2A5Ko1RF"
      },
      "source": [
        "# Convert all inputs and labels into torch tensors, the required datatype\n",
        "# for our model.\n",
        "train_inputs = torch.tensor(train_inputs)\n",
        "validation_inputs = torch.tensor(validation_inputs)\n",
        "\n",
        "train_labels = torch.tensor(train_labels)\n",
        "validation_labels = torch.tensor(validation_labels)\n",
        "\n",
        "train_masks = torch.tensor(train_masks)\n",
        "validation_masks = torch.tensor(validation_masks)"
      ],
      "execution_count": 73,
      "outputs": []
    },
    {
      "cell_type": "markdown",
      "metadata": {
        "id": "dD9i6Z2pG-sN"
      },
      "source": [
        "(3) We'll also create an iterator for our dataset using the torch DataLoader class. This helps save on memory during training because, unlike a for loop, with an iterator the entire dataset does not need to be loaded into memory."
      ]
    },
    {
      "cell_type": "code",
      "metadata": {
        "id": "GEgLpFVlo1Z-"
      },
      "source": [
        "from torch.utils.data import TensorDataset, DataLoader, RandomSampler, SequentialSampler\n",
        "\n",
        "# The DataLoader needs to know our batch size for training, so we specify it\n",
        "# here.\n",
        "# For fine-tuning BERT on a specific task, the authors recommend a batch size of\n",
        "# 16 or 32.\n",
        "\n",
        "batch_size = 32\n",
        "\n",
        "# Create the DataLoader for our training set.\n",
        "train_data = TensorDataset(train_inputs, train_masks, train_labels)\n",
        "train_sampler = RandomSampler(train_data)\n",
        "train_dataloader = DataLoader(train_data, sampler=train_sampler, batch_size=batch_size)\n",
        "\n",
        "# Create the DataLoader for our validation set.\n",
        "validation_data = TensorDataset(validation_inputs, validation_masks, validation_labels)\n",
        "validation_sampler = SequentialSampler(validation_data)\n",
        "validation_dataloader = DataLoader(validation_data, sampler=validation_sampler, batch_size=batch_size)\n"
      ],
      "execution_count": 74,
      "outputs": []
    },
    {
      "cell_type": "markdown",
      "metadata": {
        "id": "Wl12-BD637Ty"
      },
      "source": [
        "# Part II - BERT Fine-Tuning"
      ]
    },
    {
      "cell_type": "markdown",
      "metadata": {
        "id": "8bwa6Rts-02-"
      },
      "source": [
        "## 4. Train Our Classification Model"
      ]
    },
    {
      "cell_type": "markdown",
      "metadata": {
        "id": "3xYQ3iLO08SX"
      },
      "source": [
        "Now that our input data is properly formatted, it's time to fine tune the BERT model."
      ]
    },
    {
      "cell_type": "markdown",
      "metadata": {
        "id": "D6TKgyUzPIQc"
      },
      "source": [
        "### 4.1. BertForSequenceClassification"
      ]
    },
    {
      "cell_type": "markdown",
      "metadata": {
        "id": "BXYitPoE-cjH"
      },
      "source": [
        "\n",
        "\n",
        "We'll be using [BertForSequenceClassification](https://huggingface.co/transformers/v2.2.0/model_doc/bert.html#bertforsequenceclassification). This is the normal BERT model with an added single linear layer on top for classification that we will use as a sentence classifier. As we feed input data, the entire pre-trained BERT model and the additional untrained classification layer is trained on our specific task.\n"
      ]
    },
    {
      "cell_type": "markdown",
      "metadata": {
        "id": "WnQW9E-bBCRt"
      },
      "source": [
        "OK, let's load BERT! There are a few different pre-trained BERT models available. \"bert-base-uncased\" means the version that has only lowercase letters (\"uncased\") and is the smaller version of the two (\"base\" vs \"large\").\n",
        "\n",
        "The documentation for `from_pretrained` can be found [here](https://huggingface.co/transformers/v2.2.0/main_classes/model.html#transformers.PreTrainedModel.from_pretrained), with the additional parameters defined [here](https://huggingface.co/transformers/v2.2.0/main_classes/configuration.html#transformers.PretrainedConfig)."
      ]
    },
    {
      "cell_type": "code",
      "metadata": {
        "id": "gFsCTp_mporB",
        "colab": {
          "base_uri": "https://localhost:8080/"
        },
        "outputId": "839974e1-bbf5-47af-bfac-29e49aa48d3e"
      },
      "source": [
        "from transformers import BertForSequenceClassification, AdamW, BertConfig\n",
        "\n",
        "# Load BertForSequenceClassification, the pretrained BERT model with a single\n",
        "# linear classification layer on top.\n",
        "model = BertForSequenceClassification.from_pretrained(\n",
        "    \"bert-base-uncased\", # Use the 12-layer BERT model, with an uncased vocab.\n",
        "    num_labels = 2, # The number of output labels--2 for binary classification.\n",
        "                    # You can increase this for multi-class tasks.\n",
        "    output_attentions = False, # Whether the model returns attentions weights.\n",
        "    output_hidden_states = False, # Whether the model returns all hidden-states.\n",
        ")\n",
        "\n",
        "# Tell pytorch to run this model on the GPU.\n",
        "model.cuda()"
      ],
      "execution_count": 75,
      "outputs": [
        {
          "output_type": "stream",
          "name": "stderr",
          "text": [
            "Some weights of BertForSequenceClassification were not initialized from the model checkpoint at bert-base-uncased and are newly initialized: ['classifier.bias', 'classifier.weight']\n",
            "You should probably TRAIN this model on a down-stream task to be able to use it for predictions and inference.\n"
          ]
        },
        {
          "output_type": "execute_result",
          "data": {
            "text/plain": [
              "BertForSequenceClassification(\n",
              "  (bert): BertModel(\n",
              "    (embeddings): BertEmbeddings(\n",
              "      (word_embeddings): Embedding(30522, 768, padding_idx=0)\n",
              "      (position_embeddings): Embedding(512, 768)\n",
              "      (token_type_embeddings): Embedding(2, 768)\n",
              "      (LayerNorm): LayerNorm((768,), eps=1e-12, elementwise_affine=True)\n",
              "      (dropout): Dropout(p=0.1, inplace=False)\n",
              "    )\n",
              "    (encoder): BertEncoder(\n",
              "      (layer): ModuleList(\n",
              "        (0-11): 12 x BertLayer(\n",
              "          (attention): BertAttention(\n",
              "            (self): BertSelfAttention(\n",
              "              (query): Linear(in_features=768, out_features=768, bias=True)\n",
              "              (key): Linear(in_features=768, out_features=768, bias=True)\n",
              "              (value): Linear(in_features=768, out_features=768, bias=True)\n",
              "              (dropout): Dropout(p=0.1, inplace=False)\n",
              "            )\n",
              "            (output): BertSelfOutput(\n",
              "              (dense): Linear(in_features=768, out_features=768, bias=True)\n",
              "              (LayerNorm): LayerNorm((768,), eps=1e-12, elementwise_affine=True)\n",
              "              (dropout): Dropout(p=0.1, inplace=False)\n",
              "            )\n",
              "          )\n",
              "          (intermediate): BertIntermediate(\n",
              "            (dense): Linear(in_features=768, out_features=3072, bias=True)\n",
              "            (intermediate_act_fn): GELUActivation()\n",
              "          )\n",
              "          (output): BertOutput(\n",
              "            (dense): Linear(in_features=3072, out_features=768, bias=True)\n",
              "            (LayerNorm): LayerNorm((768,), eps=1e-12, elementwise_affine=True)\n",
              "            (dropout): Dropout(p=0.1, inplace=False)\n",
              "          )\n",
              "        )\n",
              "      )\n",
              "    )\n",
              "    (pooler): BertPooler(\n",
              "      (dense): Linear(in_features=768, out_features=768, bias=True)\n",
              "      (activation): Tanh()\n",
              "    )\n",
              "  )\n",
              "  (dropout): Dropout(p=0.1, inplace=False)\n",
              "  (classifier): Linear(in_features=768, out_features=2, bias=True)\n",
              ")"
            ]
          },
          "metadata": {},
          "execution_count": 75
        }
      ]
    },
    {
      "cell_type": "markdown",
      "metadata": {
        "id": "qRWT-D4U_Pvx"
      },
      "source": [
        "### 4.2. Optimizer & Learning Rate Scheduler"
      ]
    },
    {
      "cell_type": "markdown",
      "metadata": {
        "id": "8o-VEBobKwHk"
      },
      "source": [
        "Now that we have our model loaded we need to grab the training hyperparameters from within the stored model.\n",
        "\n",
        "For the purposes of fine-tuning, the authors recommend choosing from the following values:\n",
        "- Batch size: 16, 32  (We chose 32 when creating our DataLoaders).\n",
        "- Learning rate (Adam): 5e-5, 3e-5, 2e-5  (We'll use 2e-5).\n",
        "- Number of epochs: 2, 3, 4  (We'll use 4).\n",
        "\n",
        "The epsilon parameter `eps = 1e-8` is \"a very small number to prevent any division by zero in the implementation\" (from [here](https://machinelearningmastery.com/adam-optimization-algorithm-for-deep-learning/)).\n",
        "\n",
        "You can find the creation of the AdamW optimizer in `run_glue.py` [here](https://github.com/huggingface/transformers/blob/5bfcd0485ece086ebcbed2d008813037968a9e58/examples/run_glue.py#L109)."
      ]
    },
    {
      "cell_type": "code",
      "metadata": {
        "id": "GLs72DuMODJO",
        "colab": {
          "base_uri": "https://localhost:8080/"
        },
        "outputId": "c3e61383-1a20-49a4-9bf2-660cb2768928"
      },
      "source": [
        "# Note: AdamW is a class from the huggingface library (as opposed to pytorch)\n",
        "# I believe the 'W' stands for 'Weight Decay fix\"\n",
        "optimizer = AdamW(model.parameters(),\n",
        "                  lr = 2e-5, # args.learning_rate - default is 5e-5, our notebook had 2e-5\n",
        "                  eps = 1e-8 # args.adam_epsilon  - default is 1e-8.\n",
        "                )"
      ],
      "execution_count": 76,
      "outputs": [
        {
          "output_type": "stream",
          "name": "stderr",
          "text": [
            "/usr/local/lib/python3.10/dist-packages/transformers/optimization.py:411: FutureWarning: This implementation of AdamW is deprecated and will be removed in a future version. Use the PyTorch implementation torch.optim.AdamW instead, or set `no_deprecation_warning=True` to disable this warning\n",
            "  warnings.warn(\n"
          ]
        }
      ]
    },
    {
      "cell_type": "code",
      "metadata": {
        "id": "-p0upAhhRiIx"
      },
      "source": [
        "from transformers import get_linear_schedule_with_warmup\n",
        "\n",
        "# Number of training epochs (authors recommend between 2 and 4)\n",
        "epochs = 4\n",
        "\n",
        "# Total number of training steps is number of batches * number of epochs.\n",
        "total_steps = len(train_dataloader) * epochs\n",
        "\n",
        "# Create the learning rate scheduler.\n",
        "scheduler = get_linear_schedule_with_warmup(optimizer,\n",
        "                                            num_warmup_steps = 0, # Default value in run_glue.py\n",
        "                                            num_training_steps = total_steps)"
      ],
      "execution_count": 77,
      "outputs": []
    },
    {
      "cell_type": "markdown",
      "metadata": {
        "id": "RqfmWwUR_Sox"
      },
      "source": [
        "### 4.3. Training Loop"
      ]
    },
    {
      "cell_type": "markdown",
      "metadata": {
        "id": "_QXZhFb4LnV5"
      },
      "source": [
        "In each pass, we will train the model on our full training set, and then measure it's accuracy on our 10% holdout validation set."
      ]
    },
    {
      "cell_type": "markdown",
      "metadata": {
        "id": "pE5B99H5H2-W"
      },
      "source": [
        "Define a helper function for calculating accuracy."
      ]
    },
    {
      "cell_type": "code",
      "metadata": {
        "id": "9cQNvaZ9bnyy"
      },
      "source": [
        "import numpy as np\n",
        "\n",
        "# Function to calculate the accuracy of our predictions vs labels\n",
        "def flat_accuracy(preds, labels):\n",
        "    pred_flat = np.argmax(preds, axis=1).flatten()\n",
        "    labels_flat = labels.flatten()\n",
        "    return np.sum(pred_flat == labels_flat) / len(labels_flat)"
      ],
      "execution_count": 78,
      "outputs": []
    },
    {
      "cell_type": "markdown",
      "metadata": {
        "id": "KNhRtWPXH9C3"
      },
      "source": [
        "Helper function for formatting elapsed times.\n"
      ]
    },
    {
      "cell_type": "code",
      "metadata": {
        "id": "gpt6tR83keZD"
      },
      "source": [
        "import time\n",
        "import datetime\n",
        "\n",
        "def format_time(elapsed):\n",
        "    '''\n",
        "    Takes a time in seconds and returns a string hh:mm:ss\n",
        "    '''\n",
        "    # Round to the nearest second.\n",
        "    elapsed_rounded = int(round((elapsed)))\n",
        "\n",
        "    # Format as hh:mm:ss\n",
        "    return str(datetime.timedelta(seconds=elapsed_rounded))\n"
      ],
      "execution_count": 79,
      "outputs": []
    },
    {
      "cell_type": "markdown",
      "metadata": {
        "id": "cfNIhN19te3N"
      },
      "source": [
        "We're ready to kick off the training!"
      ]
    },
    {
      "cell_type": "code",
      "metadata": {
        "id": "6J-FYdx6nFE_",
        "colab": {
          "base_uri": "https://localhost:8080/"
        },
        "outputId": "d3d30e2e-33cc-4af2-b302-75d5d42593a6"
      },
      "source": [
        "import random\n",
        "\n",
        "# This training code is based on the `run_glue.py` script here:\n",
        "# https://github.com/huggingface/transformers/blob/5bfcd0485ece086ebcbed2d008813037968a9e58/examples/run_glue.py#L128\n",
        "\n",
        "\n",
        "# Set the seed value all over the place to make this reproducible.\n",
        "seed_val = 42\n",
        "\n",
        "random.seed(seed_val)\n",
        "np.random.seed(seed_val)\n",
        "torch.manual_seed(seed_val)\n",
        "torch.cuda.manual_seed_all(seed_val)\n",
        "\n",
        "# Store the average loss after each epoch so we can plot them.\n",
        "loss_values = []\n",
        "\n",
        "# For each epoch...\n",
        "for epoch_i in range(0, epochs):\n",
        "\n",
        "    # ========================================\n",
        "    #               Training\n",
        "    # ========================================\n",
        "\n",
        "    # Perform one full pass over the training set.\n",
        "\n",
        "    print(\"\")\n",
        "    print('======== Epoch {:} / {:} ========'.format(epoch_i + 1, epochs))\n",
        "    print('Training...')\n",
        "\n",
        "    # Measure how long the training epoch takes.\n",
        "    t0 = time.time()\n",
        "\n",
        "    # Reset the total loss for this epoch.\n",
        "    total_loss = 0\n",
        "\n",
        "    # Put the model into training mode. Don't be mislead--the call to\n",
        "    # `train` just changes the *mode*, it doesn't *perform* the training.\n",
        "    # `dropout` and `batchnorm` layers behave differently during training\n",
        "    # vs. test (source: https://stackoverflow.com/questions/51433378/what-does-model-train-do-in-pytorch)\n",
        "    model.train()\n",
        "\n",
        "    # For each batch of training data...\n",
        "    for step, batch in enumerate(train_dataloader):\n",
        "\n",
        "        # Progress update every 100 batches.\n",
        "        if step % 100 == 0 and not step == 0:\n",
        "            # Calculate elapsed time in minutes.\n",
        "            elapsed = format_time(time.time() - t0)\n",
        "\n",
        "            # Report progress.\n",
        "            print('  Batch {:>5,}  of  {:>5,}.    Elapsed: {:}.'.format(step, len(train_dataloader), elapsed))\n",
        "\n",
        "        # Unpack this training batch from our dataloader.\n",
        "        #\n",
        "        # As we unpack the batch, we'll also copy each tensor to the GPU using the\n",
        "        # `to` method.\n",
        "        #\n",
        "        # `batch` contains three pytorch tensors:\n",
        "        #   [0]: input ids\n",
        "        #   [1]: attention masks\n",
        "        #   [2]: labels\n",
        "        b_input_ids = batch[0].to(device)\n",
        "        b_input_mask = batch[1].to(device)\n",
        "        b_labels = batch[2].to(device)\n",
        "\n",
        "        # Always clear any previously calculated gradients before performing a\n",
        "        # backward pass. PyTorch doesn't do this automatically because\n",
        "        # accumulating the gradients is \"convenient while training RNNs\".\n",
        "        # (source: https://stackoverflow.com/questions/48001598/why-do-we-need-to-call-zero-grad-in-pytorch)\n",
        "        model.zero_grad()\n",
        "\n",
        "        # Perform a forward pass (evaluate the model on this training batch).\n",
        "        # In PyTorch, calling `model` will in turn call the model's `forward`\n",
        "        # function and pass down the arguments. The `forward` function is\n",
        "        # documented here:\n",
        "        # https://huggingface.co/transformers/model_doc/bert.html#bertforsequenceclassification\n",
        "        # The results are returned in a results object, documented here:\n",
        "        # https://huggingface.co/transformers/main_classes/output.html#transformers.modeling_outputs.SequenceClassifierOutput\n",
        "        result = model(b_input_ids,\n",
        "                       token_type_ids=None,\n",
        "                       attention_mask=b_input_mask,\n",
        "                       labels=b_labels,\n",
        "                       return_dict=True)\n",
        "\n",
        "        loss = result.loss\n",
        "\n",
        "        # Accumulate the training loss over all of the batches so that we can\n",
        "        # calculate the average loss at the end. `loss` is a Tensor containing a\n",
        "        # single value; the `.item()` function just returns the Python value\n",
        "        # from the tensor.\n",
        "        total_loss += loss.item()\n",
        "\n",
        "        # Perform a backward pass to calculate the gradients.\n",
        "        loss.backward()\n",
        "\n",
        "        # Clip the norm of the gradients to 1.0.\n",
        "        # This is to help prevent the \"exploding gradients\" problem.\n",
        "        torch.nn.utils.clip_grad_norm_(model.parameters(), 1.0)\n",
        "\n",
        "        # Update parameters and take a step using the computed gradient.\n",
        "        # The optimizer dictates the \"update rule\"--how the parameters are\n",
        "        # modified based on their gradients, the learning rate, etc.\n",
        "        optimizer.step()\n",
        "\n",
        "        # Update the learning rate.\n",
        "        scheduler.step()\n",
        "\n",
        "    # Calculate the average loss over the training data.\n",
        "    avg_train_loss = total_loss / len(train_dataloader)\n",
        "\n",
        "    # Store the loss value for plotting the learning curve.\n",
        "    loss_values.append(avg_train_loss)\n",
        "\n",
        "    print(\"\")\n",
        "    print(\"  Average training loss: {0:.2f}\".format(avg_train_loss))\n",
        "    print(\"  Training epcoh took: {:}\".format(format_time(time.time() - t0)))\n",
        "\n",
        "    # ========================================\n",
        "    #               Validation\n",
        "    # ========================================\n",
        "    # After the completion of each training epoch, measure our performance on\n",
        "    # our validation set.\n",
        "\n",
        "    print(\"\")\n",
        "    print(\"Running Validation...\")\n",
        "\n",
        "    t0 = time.time()\n",
        "\n",
        "    # Put the model in evaluation mode--the dropout layers behave differently\n",
        "    # during evaluation.\n",
        "    model.eval()\n",
        "\n",
        "    # Tracking variables\n",
        "    eval_loss, eval_accuracy = 0, 0\n",
        "    nb_eval_steps, nb_eval_examples = 0, 0\n",
        "\n",
        "    # Evaluate data for one epoch\n",
        "    for batch in validation_dataloader:\n",
        "\n",
        "        # Add batch to GPU\n",
        "        batch = tuple(t.to(device) for t in batch)\n",
        "\n",
        "        # Unpack the inputs from our dataloader\n",
        "        b_input_ids, b_input_mask, b_labels = batch\n",
        "\n",
        "        # Telling the model not to compute or store gradients, saving memory and\n",
        "        # speeding up validation\n",
        "        with torch.no_grad():\n",
        "\n",
        "            # Forward pass, calculate logit predictions.\n",
        "            # token_type_ids is the same as the \"segment ids\", which\n",
        "            # differentiates sentence 1 and 2 in 2-sentence tasks.\n",
        "            result = model(b_input_ids,\n",
        "                           token_type_ids=None,\n",
        "                           attention_mask=b_input_mask,\n",
        "                           labels=b_labels,\n",
        "                           return_dict=True)\n",
        "\n",
        "        # Get the loss and \"logits\" output by the model. The \"logits\" are the\n",
        "        # output values prior to applying an activation function like the\n",
        "        # softmax.\n",
        "        loss = result.loss\n",
        "        logits = result.logits\n",
        "\n",
        "        # Move logits and labels to CPU\n",
        "        logits = logits.detach().cpu().numpy()\n",
        "        label_ids = b_labels.to('cpu').numpy()\n",
        "\n",
        "        # Calculate the accuracy for this batch of test sentences.\n",
        "        tmp_eval_accuracy = flat_accuracy(logits, label_ids)\n",
        "\n",
        "        # Accumulate the total accuracy.\n",
        "        eval_accuracy += tmp_eval_accuracy\n",
        "\n",
        "        # Track the number of batches\n",
        "        nb_eval_steps += 1\n",
        "\n",
        "    # Report the final accuracy for this validation run.\n",
        "    print(\"  Accuracy: {0:.2f}\".format(eval_accuracy/nb_eval_steps))\n",
        "    print(\"  Validation took: {:}\".format(format_time(time.time() - t0)))\n",
        "\n",
        "print(\"\")\n",
        "print(\"Training complete!\")"
      ],
      "execution_count": null,
      "outputs": [
        {
          "output_type": "stream",
          "name": "stdout",
          "text": [
            "\n",
            "======== Epoch 1 / 4 ========\n",
            "Training...\n",
            "  Batch   100  of  1,956.    Elapsed: 0:01:02.\n",
            "  Batch   200  of  1,956.    Elapsed: 0:02:03.\n",
            "  Batch   300  of  1,956.    Elapsed: 0:03:05.\n",
            "  Batch   400  of  1,956.    Elapsed: 0:04:06.\n",
            "  Batch   500  of  1,956.    Elapsed: 0:05:08.\n",
            "  Batch   600  of  1,956.    Elapsed: 0:06:09.\n",
            "  Batch   700  of  1,956.    Elapsed: 0:07:11.\n",
            "  Batch   800  of  1,956.    Elapsed: 0:08:12.\n",
            "  Batch   900  of  1,956.    Elapsed: 0:09:14.\n",
            "  Batch 1,000  of  1,956.    Elapsed: 0:10:15.\n",
            "  Batch 1,100  of  1,956.    Elapsed: 0:11:17.\n",
            "  Batch 1,200  of  1,956.    Elapsed: 0:12:18.\n",
            "  Batch 1,300  of  1,956.    Elapsed: 0:13:19.\n",
            "  Batch 1,400  of  1,956.    Elapsed: 0:14:21.\n",
            "  Batch 1,500  of  1,956.    Elapsed: 0:15:22.\n",
            "  Batch 1,600  of  1,956.    Elapsed: 0:16:24.\n",
            "  Batch 1,700  of  1,956.    Elapsed: 0:17:25.\n",
            "  Batch 1,800  of  1,956.    Elapsed: 0:18:27.\n",
            "  Batch 1,900  of  1,956.    Elapsed: 0:19:28.\n",
            "\n",
            "  Average training loss: 0.14\n",
            "  Training epcoh took: 0:20:02\n",
            "\n",
            "Running Validation...\n",
            "  Accuracy: 0.95\n",
            "  Validation took: 0:00:45\n",
            "\n",
            "======== Epoch 2 / 4 ========\n",
            "Training...\n",
            "  Batch   100  of  1,956.    Elapsed: 0:01:02.\n",
            "  Batch   200  of  1,956.    Elapsed: 0:02:03.\n",
            "  Batch   300  of  1,956.    Elapsed: 0:03:04.\n",
            "  Batch   400  of  1,956.    Elapsed: 0:04:06.\n",
            "  Batch   500  of  1,956.    Elapsed: 0:05:07.\n",
            "  Batch   600  of  1,956.    Elapsed: 0:06:09.\n",
            "  Batch   700  of  1,956.    Elapsed: 0:07:10.\n",
            "  Batch   800  of  1,956.    Elapsed: 0:08:12.\n",
            "  Batch   900  of  1,956.    Elapsed: 0:09:13.\n",
            "  Batch 1,000  of  1,956.    Elapsed: 0:10:15.\n",
            "  Batch 1,100  of  1,956.    Elapsed: 0:11:16.\n",
            "  Batch 1,200  of  1,956.    Elapsed: 0:12:17.\n",
            "  Batch 1,300  of  1,956.    Elapsed: 0:13:19.\n",
            "  Batch 1,400  of  1,956.    Elapsed: 0:14:20.\n",
            "  Batch 1,500  of  1,956.    Elapsed: 0:15:22.\n",
            "  Batch 1,600  of  1,956.    Elapsed: 0:16:23.\n",
            "  Batch 1,700  of  1,956.    Elapsed: 0:17:25.\n",
            "  Batch 1,800  of  1,956.    Elapsed: 0:18:26.\n",
            "  Batch 1,900  of  1,956.    Elapsed: 0:19:28.\n",
            "\n",
            "  Average training loss: 0.09\n",
            "  Training epcoh took: 0:20:02\n",
            "\n",
            "Running Validation...\n",
            "  Accuracy: 0.95\n",
            "  Validation took: 0:00:45\n",
            "\n",
            "======== Epoch 3 / 4 ========\n",
            "Training...\n",
            "  Batch   100  of  1,956.    Elapsed: 0:01:02.\n",
            "  Batch   200  of  1,956.    Elapsed: 0:02:03.\n",
            "  Batch   300  of  1,956.    Elapsed: 0:03:04.\n",
            "  Batch   400  of  1,956.    Elapsed: 0:04:06.\n",
            "  Batch   500  of  1,956.    Elapsed: 0:05:07.\n",
            "  Batch   600  of  1,956.    Elapsed: 0:06:09.\n",
            "  Batch   700  of  1,956.    Elapsed: 0:07:11.\n",
            "  Batch   800  of  1,956.    Elapsed: 0:08:12.\n",
            "  Batch   900  of  1,956.    Elapsed: 0:09:14.\n",
            "  Batch 1,000  of  1,956.    Elapsed: 0:10:15.\n",
            "  Batch 1,100  of  1,956.    Elapsed: 0:11:16.\n",
            "  Batch 1,200  of  1,956.    Elapsed: 0:12:18.\n",
            "  Batch 1,300  of  1,956.    Elapsed: 0:13:19.\n",
            "  Batch 1,400  of  1,956.    Elapsed: 0:14:21.\n",
            "  Batch 1,500  of  1,956.    Elapsed: 0:15:22.\n",
            "  Batch 1,600  of  1,956.    Elapsed: 0:16:24.\n",
            "  Batch 1,700  of  1,956.    Elapsed: 0:17:25.\n",
            "  Batch 1,800  of  1,956.    Elapsed: 0:18:27.\n",
            "  Batch 1,900  of  1,956.    Elapsed: 0:19:28.\n",
            "\n",
            "  Average training loss: 0.06\n",
            "  Training epcoh took: 0:20:02\n",
            "\n",
            "Running Validation...\n",
            "  Accuracy: 0.95\n",
            "  Validation took: 0:00:45\n",
            "\n",
            "======== Epoch 4 / 4 ========\n",
            "Training...\n",
            "  Batch   100  of  1,956.    Elapsed: 0:01:01.\n",
            "  Batch   200  of  1,956.    Elapsed: 0:02:03.\n",
            "  Batch   300  of  1,956.    Elapsed: 0:03:04.\n",
            "  Batch   400  of  1,956.    Elapsed: 0:04:06.\n",
            "  Batch   500  of  1,956.    Elapsed: 0:05:08.\n",
            "  Batch   600  of  1,956.    Elapsed: 0:06:09.\n",
            "  Batch   700  of  1,956.    Elapsed: 0:07:10.\n",
            "  Batch   800  of  1,956.    Elapsed: 0:08:12.\n",
            "  Batch   900  of  1,956.    Elapsed: 0:09:13.\n"
          ]
        }
      ]
    },
    {
      "cell_type": "markdown",
      "metadata": {
        "id": "1-G03mmwH3aI"
      },
      "source": [
        "Let's take a look at our training loss over all batches:"
      ]
    },
    {
      "cell_type": "code",
      "metadata": {
        "id": "68xreA9JAmG5"
      },
      "source": [
        "import matplotlib.pyplot as plt\n",
        "% matplotlib inline\n",
        "\n",
        "import seaborn as sns\n",
        "\n",
        "# Use plot styling from seaborn.\n",
        "sns.set(style='darkgrid')\n",
        "\n",
        "# Increase the plot size and font size.\n",
        "sns.set(font_scale=1.5)\n",
        "plt.rcParams[\"figure.figsize\"] = (12,6)\n",
        "\n",
        "# Plot the learning curve.\n",
        "plt.plot(loss_values, 'b-o')\n",
        "\n",
        "# Label the plot.\n",
        "plt.title(\"Training loss\")\n",
        "plt.xlabel(\"Epoch\")\n",
        "plt.ylabel(\"Loss\")\n",
        "\n",
        "plt.show()"
      ],
      "execution_count": null,
      "outputs": []
    },
    {
      "cell_type": "markdown",
      "metadata": {
        "id": "mkyubuJSOzg3"
      },
      "source": [
        "## 5. Performance On Test Set"
      ]
    },
    {
      "cell_type": "markdown",
      "metadata": {
        "id": "DosV94BYIYxg"
      },
      "source": [
        "Now we'll load the holdout dataset and prepare inputs just as we did with the training set."
      ]
    },
    {
      "cell_type": "markdown",
      "metadata": {
        "id": "Tg42jJqqM68F"
      },
      "source": [
        "### 5.1. Data Preparation\n"
      ]
    },
    {
      "cell_type": "markdown",
      "metadata": {
        "id": "xWe0_JW21MyV"
      },
      "source": [
        "\n",
        "We'll need to apply all of the same steps that we did for the training data to prepare our test data set."
      ]
    },
    {
      "cell_type": "code",
      "metadata": {
        "id": "mAN0LZBOOPVh",
        "colab": {
          "base_uri": "https://localhost:8080/"
        },
        "outputId": "83666d8b-119c-4e2c-840a-ded614465b94"
      },
      "source": [
        "# Tokenize all of the sentences and map the tokens to thier word IDs.\n",
        "test_input_ids = []\n",
        "\n",
        "# For every sentence...\n",
        "for sen in test_comments.comment:\n",
        "\n",
        "    # Report progress.\n",
        "    if ((len(input_ids) % 20000) == 0):\n",
        "        print('  Read {:,} comments.'.format(len(input_ids)))\n",
        "\n",
        "    # `encode` will:\n",
        "    #   (1) Tokenize the sentence.\n",
        "    #   (2) Prepend the `[CLS]` token to the start.\n",
        "    #   (3) Append the `[SEP]` token to the end.\n",
        "    #   (4) Map tokens to their IDs.\n",
        "    encoded_sent = tokenizer.encode(\n",
        "                        sen,                      # Sentence to encode.\n",
        "                        add_special_tokens = True, # Add '[CLS]' and '[SEP]'\n",
        "                        max_length = MAX_LEN,          # Truncate all sentences.\n",
        "                   )\n",
        "\n",
        "    # Add the encoded sentence to the list.\n",
        "    test_input_ids.append(encoded_sent)\n",
        "\n",
        "print('DONE.')\n",
        "print('')\n",
        "print('{:>10,} test comments'.format(len(test_input_ids)))\n",
        "\n",
        "# Also retrieve the labels as a list.\n",
        "\n",
        "# Get the labels from the DataFrame, and convert from booleans to ints.\n",
        "test_labels = test_comments.attack.to_numpy().astype(int)\n",
        "\n",
        "print('{:>10,} positive (contains attack)'.format(np.sum(test_labels)))\n",
        "print('{:>10,} negative (not an attack)'.format(len(test_labels) - np.sum(test_labels)))\n",
        "\n",
        "# Pad our input tokens\n",
        "test_input_ids = pad_sequences(test_input_ids, maxlen=MAX_LEN,\n",
        "                               dtype=\"long\", truncating=\"post\", padding=\"post\")\n",
        "\n",
        "# Create attention masks\n",
        "test_attention_masks = []\n",
        "\n",
        "# Create a mask of 1s for each token followed by 0s for padding\n",
        "for seq in test_input_ids:\n",
        "  seq_mask = [float(i>0) for i in seq]\n",
        "  test_attention_masks.append(seq_mask)\n",
        "\n",
        "# Convert to tensors.\n",
        "test_inputs = torch.tensor(test_input_ids)\n",
        "test_masks = torch.tensor(test_attention_masks)\n",
        "test_labels = torch.tensor(test_labels)\n",
        "\n",
        "# Set the batch size.\n",
        "batch_size = 32\n",
        "\n",
        "# Create the DataLoader.\n",
        "test_data = TensorDataset(test_inputs, test_masks, test_labels)\n",
        "test_sampler = SequentialSampler(test_data)\n",
        "test_dataloader = DataLoader(test_data, sampler=test_sampler, batch_size=batch_size)"
      ],
      "execution_count": 82,
      "outputs": [
        {
          "output_type": "stream",
          "name": "stderr",
          "text": [
            "Truncation was not explicitly activated but `max_length` is provided a specific value, please use `truncation=True` to explicitly truncate examples to max length. Defaulting to 'longest_first' truncation strategy. If you encode pairs of sequences (GLUE-style) with the tokenizer you can select this strategy more precisely by providing a specific strategy to `truncation`.\n"
          ]
        },
        {
          "output_type": "stream",
          "name": "stdout",
          "text": [
            "DONE.\n",
            "\n",
            "    23,178 test comments\n",
            "     2,756 positive (contains attack)\n",
            "    20,422 negative (not an attack)\n"
          ]
        }
      ]
    },
    {
      "cell_type": "markdown",
      "metadata": {
        "id": "16lctEOyNFik"
      },
      "source": [
        "### 5.2. Evaluate on Test Set\n"
      ]
    },
    {
      "cell_type": "markdown",
      "metadata": {
        "id": "rhR99IISNMg9"
      },
      "source": [
        "\n",
        "With the test set prepared, we can apply our fine-tuned model to generate predictions on the test set."
      ]
    },
    {
      "cell_type": "code",
      "metadata": {
        "id": "Hba10sXR7Xi6",
        "colab": {
          "base_uri": "https://localhost:8080/"
        },
        "outputId": "3c969a83-c5b8-48ad-8abc-2a43a3363c10"
      },
      "source": [
        "# Prediction on test set\n",
        "\n",
        "print('Predicting labels for {:,} test sentences...'.format(len(test_inputs)))\n",
        "\n",
        "# Put model in evaluation mode\n",
        "model.eval()\n",
        "\n",
        "# Tracking variables\n",
        "predictions , true_labels = [], []\n",
        "\n",
        "# Measure elapsed time.\n",
        "t0 = time.time()\n",
        "\n",
        "# Predict\n",
        "for (step, batch) in enumerate(test_dataloader):\n",
        "\n",
        "    # Add batch to GPU\n",
        "    batch = tuple(t.to(device) for t in batch)\n",
        "\n",
        "    # Progress update every 100 batches.\n",
        "    if step % 100 == 0 and not step == 0:\n",
        "        # Calculate elapsed time in minutes.\n",
        "        elapsed = format_time(time.time() - t0)\n",
        "\n",
        "        # Report progress.\n",
        "        print('  Batch {:>5,}  of  {:>5,}.    Elapsed: {:}.'.format(step, len(test_dataloader), elapsed))\n",
        "\n",
        "\n",
        "    # Unpack the inputs from our dataloader\n",
        "    b_input_ids, b_input_mask, b_labels = batch\n",
        "\n",
        "    # Telling the model not to compute or store gradients, saving memory and\n",
        "    # speeding up prediction\n",
        "    with torch.no_grad():\n",
        "        # Forward pass, calculate logit predictions.\n",
        "        result = model(b_input_ids,\n",
        "                       token_type_ids=None,\n",
        "                       attention_mask=b_input_mask,\n",
        "                       return_dict=True)\n",
        "\n",
        "    logits = result.logits\n",
        "\n",
        "    # Move logits and labels to CPU\n",
        "    logits = logits.detach().cpu().numpy()\n",
        "    label_ids = b_labels.to('cpu').numpy()\n",
        "\n",
        "    # Store predictions and true labels\n",
        "    predictions.append(logits)\n",
        "    true_labels.append(label_ids)\n",
        "\n",
        "print('    DONE.')"
      ],
      "execution_count": 83,
      "outputs": [
        {
          "output_type": "stream",
          "name": "stdout",
          "text": [
            "Predicting labels for 23,178 test sentences...\n",
            "  Batch   100  of    725.    Elapsed: 0:00:21.\n",
            "  Batch   200  of    725.    Elapsed: 0:00:43.\n",
            "  Batch   300  of    725.    Elapsed: 0:01:03.\n",
            "  Batch   400  of    725.    Elapsed: 0:01:24.\n",
            "  Batch   500  of    725.    Elapsed: 0:01:44.\n",
            "  Batch   600  of    725.    Elapsed: 0:02:05.\n",
            "  Batch   700  of    725.    Elapsed: 0:02:26.\n",
            "    DONE.\n"
          ]
        }
      ]
    },
    {
      "cell_type": "code",
      "metadata": {
        "id": "WlBi2hc-IuVu"
      },
      "source": [
        "# Combine the results across the batches.\n",
        "predictions = np.concatenate(predictions, axis=0)\n",
        "true_labels = np.concatenate(true_labels, axis=0)"
      ],
      "execution_count": 84,
      "outputs": []
    },
    {
      "cell_type": "markdown",
      "metadata": {
        "id": "yMVyXXHlr2pt"
      },
      "source": [
        "Let's peek at the model's outputs for the first 10 test samples, along with the correct labels for each."
      ]
    },
    {
      "cell_type": "code",
      "metadata": {
        "id": "_mjLBPw_LIE0",
        "colab": {
          "base_uri": "https://localhost:8080/"
        },
        "outputId": "5f8fffd5-7626-4460-a042-b40f836546cc"
      },
      "source": [
        "predictions[0:10]"
      ],
      "execution_count": 85,
      "outputs": [
        {
          "output_type": "execute_result",
          "data": {
            "text/plain": [
              "array([[ 4.3049827, -4.493239 ],\n",
              "       [ 4.4589667, -4.5689535],\n",
              "       [ 4.497001 , -4.2439427],\n",
              "       [ 4.4638085, -4.784724 ],\n",
              "       [ 4.387356 , -4.556461 ],\n",
              "       [ 4.665942 , -4.629351 ],\n",
              "       [ 4.3023086, -4.6506977],\n",
              "       [ 4.3759446, -4.056517 ],\n",
              "       [ 4.6458726, -4.687939 ],\n",
              "       [ 4.6696963, -4.7380066]], dtype=float32)"
            ]
          },
          "metadata": {},
          "execution_count": 85
        }
      ]
    },
    {
      "cell_type": "code",
      "metadata": {
        "id": "OjALaZFeLNrV",
        "colab": {
          "base_uri": "https://localhost:8080/"
        },
        "outputId": "fae74156-5b8a-4fc9-bcb2-027edc0c059b"
      },
      "source": [
        "true_labels[0:10]"
      ],
      "execution_count": 86,
      "outputs": [
        {
          "output_type": "execute_result",
          "data": {
            "text/plain": [
              "array([0, 0, 0, 0, 0, 0, 0, 0, 0, 0])"
            ]
          },
          "metadata": {},
          "execution_count": 86
        }
      ]
    },
    {
      "cell_type": "markdown",
      "metadata": {
        "id": "Rdo4rF6ePd6d"
      },
      "source": [
        "These first ten examples all look correct (high confidence for label 0 and low confidence for label 1)! Let's see how we did on the full test set.\n",
        "\n",
        "The accuracy metric chosen by the authors for this dataset is the \"ROC AUC\" (Receiver Operating Characteristic, Area Under the Curve) rather than straight accuracy (number right / total examples).\n",
        "\n",
        "*ROC AUC*\n",
        "\n",
        "To illustrate the purpose of this metric, let's say that you were going to deploy this comment classifier on your website to automatically flag bad comments. In order to do that, you would have to make a decision about how confident you needed the classifier to be before flagging a comment as a personal attack.\n",
        "* If it was critical that no bad comments be missed, then you might choose to set a fairly low threshold, and then have a human review what the classifier flags. This would help ensure that bad comments would be caught, but at the cost of getting more false positives that the moderator would have to deal with.\n",
        "* If it wasn't critical to catch them all, and you wanted as few as possible to manually review, then you might you set a higher threshold so that you don't have as many flagged comments to review (at the risk of missing some attacks).\n",
        "\n",
        "The ROC AUC takes into account the fact that you can adjust the threshold to trade off false positives and false negatives, and yields a score which tries to capture overall accuracy independent of where you choose to put that threshold."
      ]
    },
    {
      "cell_type": "code",
      "metadata": {
        "id": "TzOXklXZOpi-",
        "colab": {
          "base_uri": "https://localhost:8080/"
        },
        "outputId": "f5cece93-ee24-4384-ee48-9c9a8c0e3db0"
      },
      "source": [
        "# Our performance metric for the test set.\n",
        "from sklearn.metrics import roc_auc_score\n",
        "\n",
        "# Use the model output for label 1 as our predictions.\n",
        "p1 = predictions[:,1]\n",
        "\n",
        "# Calculate the ROC AUC.\n",
        "auc = roc_auc_score(true_labels, p1)\n",
        "\n",
        "print('Test ROC AUC: %.3f' %auc)"
      ],
      "execution_count": 87,
      "outputs": [
        {
          "output_type": "stream",
          "name": "stdout",
          "text": [
            "Test ROC AUC: 0.974\n"
          ]
        }
      ]
    },
    {
      "cell_type": "markdown",
      "metadata": {
        "id": "tcA8f9eORpSW"
      },
      "source": [
        "This is a great score!\n",
        "\n"
      ]
    },
    {
      "cell_type": "markdown",
      "metadata": {
        "id": "YUmsUOIv8EUO"
      },
      "source": [
        "## 6. Save Trained Model\n"
      ]
    },
    {
      "cell_type": "markdown",
      "metadata": {
        "id": "4PcMRYop8bHl"
      },
      "source": [
        "### 6.1. Saving to Disk"
      ]
    },
    {
      "cell_type": "markdown",
      "metadata": {
        "id": "q2079Qyn8Mt8"
      },
      "source": [
        "This first cell (taken from `run_glue.py` [here](https://github.com/huggingface/transformers/blob/35ff345fc9df9e777b27903f11fa213e4052595b/examples/run_glue.py#L495)) writes the model and tokenizer out to disk."
      ]
    },
    {
      "cell_type": "code",
      "metadata": {
        "id": "6ulTWaOr8QNY",
        "colab": {
          "base_uri": "https://localhost:8080/"
        },
        "outputId": "e5256cc5-72c6-4c91-e19b-8896e44c2003"
      },
      "source": [
        "import os\n",
        "\n",
        "# Saving best-practices: if you use defaults names for the model, you can reload it using from_pretrained()\n",
        "output_dir = './model_save/'\n",
        "\n",
        "# Create output directory if needed\n",
        "if not os.path.exists(output_dir):\n",
        "    os.makedirs(output_dir)\n",
        "\n",
        "print(\"Saving model to %s\" % output_dir)\n",
        "\n",
        "# Save a trained model, configuration and tokenizer using `save_pretrained()`.\n",
        "# They can then be reloaded using `from_pretrained()`\n",
        "model_to_save = model.module if hasattr(model, 'module') else model  # Take care of distributed/parallel training\n",
        "model_to_save.save_pretrained(output_dir)\n",
        "tokenizer.save_pretrained(output_dir)\n",
        "\n",
        "# Good practice: save your training arguments together with the trained model\n",
        "# torch.save(args, os.path.join(output_dir, 'training_args.bin'))"
      ],
      "execution_count": 88,
      "outputs": [
        {
          "output_type": "stream",
          "name": "stdout",
          "text": [
            "Saving model to ./model_save/\n"
          ]
        },
        {
          "output_type": "execute_result",
          "data": {
            "text/plain": [
              "('./model_save/tokenizer_config.json',\n",
              " './model_save/special_tokens_map.json',\n",
              " './model_save/vocab.txt',\n",
              " './model_save/added_tokens.json')"
            ]
          },
          "metadata": {},
          "execution_count": 88
        }
      ]
    },
    {
      "cell_type": "markdown",
      "metadata": {
        "id": "MS6oWRqxs8s7"
      },
      "source": [
        "### 6.2. Backing Up to Google Drive"
      ]
    },
    {
      "cell_type": "markdown",
      "metadata": {
        "id": "dzGKvOFAll_e"
      },
      "source": [
        "To save your model across Colab Notebook sessions, download it to your local machine, or ideally copy it to your Google Drive."
      ]
    },
    {
      "cell_type": "code",
      "metadata": {
        "id": "Trr-A-POC18_",
        "colab": {
          "base_uri": "https://localhost:8080/"
        },
        "outputId": "50fdd780-4b26-48f2-c89d-5e6b3f42ffc1"
      },
      "source": [
        "# Mount Google Drive to this Notebook instance.\n",
        "from google.colab import drive\n",
        "drive.mount('/content/drive')"
      ],
      "execution_count": 89,
      "outputs": [
        {
          "output_type": "stream",
          "name": "stdout",
          "text": [
            "Mounted at /content/drive\n"
          ]
        }
      ]
    },
    {
      "cell_type": "code",
      "metadata": {
        "id": "NxlZsafTC-V5"
      },
      "source": [
        "gdrive_path = \"./drive/My Drive/BERT Document Classification Tutorial/model_save/\"\n",
        "\n",
        "# Create output directory if needed\n",
        "if not os.path.exists(gdrive_path):\n",
        "    os.makedirs(gdrive_path)\n",
        "\n",
        "# Copy the model files to a directory in your Google Drive.\n",
        "!cp -r ./model_save/ \"./drive/My Drive/BERT Document Classification Tutorial/model_save/\""
      ],
      "execution_count": 90,
      "outputs": []
    },
    {
      "cell_type": "markdown",
      "metadata": {
        "id": "TdfKzHZNRSQ2"
      },
      "source": [
        "# Part III - Semantic Similarity"
      ]
    },
    {
      "cell_type": "markdown",
      "metadata": {
        "id": "Q4Xu6y27RWS2"
      },
      "source": [
        "In Part III, we'll walk through an example of using BERT to measure the \"semantic similarity\" of two pieces of text. \"Semantic similarity\" refers to how close in meaning the pieces of text are.\n",
        "\n",
        "As a demonstration of this capability, we'll implement code to compare an arbitrary piece of input text (it could be from the dataset or one we supply ourselves) with all of the comments in the dataset and return the comments that are most similar in meaning to the input text."
      ]
    },
    {
      "cell_type": "markdown",
      "metadata": {
        "id": "eW52Ipwf9vN1"
      },
      "source": [
        "## 7. Vectorize Comments"
      ]
    },
    {
      "cell_type": "markdown",
      "metadata": {
        "id": "X6PT_j2o90E-"
      },
      "source": [
        "In this section, we will use our fine-tuned BERT model to extract sentence embeddings for all of the training comments.\n",
        "\n",
        "To create these embeddings, we'll simply run the comments through the model the same way we did for training, but we'll take the embedding corresponding to the `[CLS]` token from the final BERT Transformer layer. It's the blue rectangle at the top left of the following illustration:\n",
        "\n",
        "[![Illustration of CLS token purpose](https://drive.google.com/uc?export=view&id=1ck4mvGkznVJfW3hv6GUqcdGepVTOx7HE)](https://drive.google.com/uc?export=view&id=1ck4mvGkznVJfW3hv6GUqcdGepVTOx7HE)\n"
      ]
    },
    {
      "cell_type": "markdown",
      "metadata": {
        "id": "lrIeVcCB8iu1"
      },
      "source": [
        "### 7.1. Modifying Our Model to Output Embeddings"
      ]
    },
    {
      "cell_type": "markdown",
      "metadata": {
        "id": "gFiRlyL-kokW"
      },
      "source": [
        "**Load from Google Drive**\n",
        "\n",
        "If you need to restore your model from Google Drive, the following two cells demonstrate how to do this."
      ]
    },
    {
      "cell_type": "code",
      "metadata": {
        "id": "3fodXxaLtlP-"
      },
      "source": [
        "model.output_hidden_states = True"
      ],
      "execution_count": 91,
      "outputs": []
    },
    {
      "cell_type": "code",
      "metadata": {
        "id": "akUxcVFt8V6f",
        "colab": {
          "base_uri": "https://localhost:8080/"
        },
        "outputId": "316e82ce-5841-45d5-dfb4-c0ec0dff21aa"
      },
      "source": [
        "# Mount Google Drive to this Notebook instance.\n",
        "from google.colab import drive\n",
        "drive.mount('/content/drive')"
      ],
      "execution_count": 92,
      "outputs": [
        {
          "output_type": "stream",
          "name": "stdout",
          "text": [
            "Drive already mounted at /content/drive; to attempt to forcibly remount, call drive.mount(\"/content/drive\", force_remount=True).\n"
          ]
        }
      ]
    },
    {
      "cell_type": "code",
      "metadata": {
        "id": "2riZBxW38lV8"
      },
      "source": [
        "# Copy the model files back from Google Drive to the Colab instance.\n",
        "!cp -r \"./drive/My Drive/BERT Document Classification Tutorial/model_save/\" ./model_save/"
      ],
      "execution_count": 93,
      "outputs": []
    },
    {
      "cell_type": "markdown",
      "metadata": {
        "id": "n2aA0Eo5lov-"
      },
      "source": [
        "Now we can load our model's weights, this time enabling the `output_hidden_states` flag.\n",
        "\n",
        "This cell also demonstrates how to load the tokenizer from disk,though we haven't made any changes to it."
      ]
    },
    {
      "cell_type": "code",
      "metadata": {
        "id": "nskPzUM084zL",
        "colab": {
          "base_uri": "https://localhost:8080/"
        },
        "outputId": "1d73d884-f79c-499c-a816-1551208bbc96"
      },
      "source": [
        "from transformers import BertForSequenceClassification, BertTokenizer\n",
        "\n",
        "# The name of the folder containing the model files.\n",
        "output_dir = './model_save/'\n",
        "\n",
        "# Load our fine-tuned model, and configure it to return the \"hidden states\",\n",
        "# from which we will be taking our text embeddings.\n",
        "model = BertForSequenceClassification.from_pretrained(\n",
        "    output_dir,\n",
        "    output_hidden_states = True, # Whether the model returns all hidden-states.\n",
        ")\n",
        "\n",
        "# Load the tokenizer.\n",
        "tokenizer = BertTokenizer.from_pretrained(output_dir)\n",
        "\n",
        "# Copy the model to the GPU.\n",
        "model.to(device)"
      ],
      "execution_count": 94,
      "outputs": [
        {
          "output_type": "execute_result",
          "data": {
            "text/plain": [
              "BertForSequenceClassification(\n",
              "  (bert): BertModel(\n",
              "    (embeddings): BertEmbeddings(\n",
              "      (word_embeddings): Embedding(30522, 768, padding_idx=0)\n",
              "      (position_embeddings): Embedding(512, 768)\n",
              "      (token_type_embeddings): Embedding(2, 768)\n",
              "      (LayerNorm): LayerNorm((768,), eps=1e-12, elementwise_affine=True)\n",
              "      (dropout): Dropout(p=0.1, inplace=False)\n",
              "    )\n",
              "    (encoder): BertEncoder(\n",
              "      (layer): ModuleList(\n",
              "        (0-11): 12 x BertLayer(\n",
              "          (attention): BertAttention(\n",
              "            (self): BertSelfAttention(\n",
              "              (query): Linear(in_features=768, out_features=768, bias=True)\n",
              "              (key): Linear(in_features=768, out_features=768, bias=True)\n",
              "              (value): Linear(in_features=768, out_features=768, bias=True)\n",
              "              (dropout): Dropout(p=0.1, inplace=False)\n",
              "            )\n",
              "            (output): BertSelfOutput(\n",
              "              (dense): Linear(in_features=768, out_features=768, bias=True)\n",
              "              (LayerNorm): LayerNorm((768,), eps=1e-12, elementwise_affine=True)\n",
              "              (dropout): Dropout(p=0.1, inplace=False)\n",
              "            )\n",
              "          )\n",
              "          (intermediate): BertIntermediate(\n",
              "            (dense): Linear(in_features=768, out_features=3072, bias=True)\n",
              "            (intermediate_act_fn): GELUActivation()\n",
              "          )\n",
              "          (output): BertOutput(\n",
              "            (dense): Linear(in_features=3072, out_features=768, bias=True)\n",
              "            (LayerNorm): LayerNorm((768,), eps=1e-12, elementwise_affine=True)\n",
              "            (dropout): Dropout(p=0.1, inplace=False)\n",
              "          )\n",
              "        )\n",
              "      )\n",
              "    )\n",
              "    (pooler): BertPooler(\n",
              "      (dense): Linear(in_features=768, out_features=768, bias=True)\n",
              "      (activation): Tanh()\n",
              "    )\n",
              "  )\n",
              "  (dropout): Dropout(p=0.1, inplace=False)\n",
              "  (classifier): Linear(in_features=768, out_features=2, bias=True)\n",
              ")"
            ]
          },
          "metadata": {},
          "execution_count": 94
        }
      ]
    },
    {
      "cell_type": "markdown",
      "metadata": {
        "id": "gSYYkkdn_RnB"
      },
      "source": [
        "### 7.2. text_to_embedding function"
      ]
    },
    {
      "cell_type": "markdown",
      "metadata": {
        "id": "S_eSAG9V_bEN"
      },
      "source": [
        "Here we'll define a function which can take an arbitrary piece of text and use our fine-tuned BERT model to compute a feature vector (aka \"embedding\") for the text.\n",
        "\n",
        "Again, we'll be using the 768-feature vector corresponding to the special `[CLS]` token, taken from the final transformer layer.\n",
        "\n",
        "Note that, for converting large amounts of text, we could improve our performance by modifying this function to accept multiple input texts at once. GPUs (and CPUs) are most efficient when they are given a *batch* of inputs to work on."
      ]
    },
    {
      "cell_type": "code",
      "metadata": {
        "id": "bqr6kC1Z_aOj"
      },
      "source": [
        "import torch\n",
        "\n",
        "\n",
        "def text_to_embedding(tokenizer, model, in_text):\n",
        "    '''\n",
        "    Uses the provided BERT `model` and `tokenizer` to generate a vector\n",
        "    representation of the input string, `in_text`.\n",
        "\n",
        "    Returns the vector stored as a numpy ndarray.\n",
        "    '''\n",
        "\n",
        "    # ===========================\n",
        "    #    STEP 1: Tokenization\n",
        "    # ===========================\n",
        "\n",
        "    MAX_LEN = 128\n",
        "\n",
        "    # `encode` will:\n",
        "    #   (1) Tokenize the sentence.\n",
        "    #   (2) Truncate the sentence to MAX_LEN if necessary.\n",
        "    #   (2) Prepend the `[CLS]` token to the start.\n",
        "    #   (3) Append the `[SEP]` token to the end. (After truncating!)\n",
        "    #   (4) Map tokens to their IDs.\n",
        "    input_ids = tokenizer.encode(\n",
        "                        in_text,                    # Sentence to encode.\n",
        "                        add_special_tokens = True,  # Add '[CLS]' and '[SEP]'\n",
        "                        max_length = MAX_LEN,       # Truncate all sentences.\n",
        "                   )\n",
        "\n",
        "    # Pad our input tokens. Truncation was handled above by the `encode`\n",
        "    # function, which also makes sure that the `[SEP]` token is placed at the\n",
        "    # end *after* truncating.\n",
        "    # Note: `pad_sequences` expects a list of lists, but we only have one\n",
        "    # piece of text, so we surround `input_ids` with an extra set of brackets.\n",
        "    results = pad_sequences([input_ids], maxlen=MAX_LEN, dtype=\"long\",\n",
        "                              truncating=\"post\", padding=\"post\")\n",
        "\n",
        "    # Remove the outer list.\n",
        "    input_ids = results[0]\n",
        "\n",
        "    # Create attention masks\n",
        "    attn_mask = [int(i>0) for i in input_ids]\n",
        "\n",
        "    # Cast to tensors.\n",
        "    input_ids = torch.tensor(input_ids)\n",
        "    attn_mask = torch.tensor(attn_mask)\n",
        "\n",
        "    # Add an extra dimension for the \"batch\" (even though there is only one\n",
        "    # input in this batch.)\n",
        "    input_ids = input_ids.unsqueeze(0)\n",
        "    attn_mask = attn_mask.unsqueeze(0)\n",
        "\n",
        "    # ===========================\n",
        "    #    STEP 2: BERT Model\n",
        "    # ===========================\n",
        "\n",
        "    # Put the model in evaluation mode--the dropout layers behave differently\n",
        "    # during evaluation.\n",
        "    model.eval()\n",
        "\n",
        "    # Copy the inputs to the GPU\n",
        "    # Note -- I got stuck here for a while because I didn't assign the result\n",
        "    # back to the variable! Geez!\n",
        "    input_ids = input_ids.to(device)\n",
        "    attn_mask = attn_mask.to(device)\n",
        "\n",
        "    # Telling the model not to build the backwards graph will make this\n",
        "    # a little quicker.\n",
        "    with torch.no_grad():\n",
        "\n",
        "        # Forward pass, return hidden states and predictions.\n",
        "        # This will return the logits rather than the loss because we have\n",
        "        # not provided labels.\n",
        "        logits, encoded_layers = model(\n",
        "                                    input_ids = input_ids,\n",
        "                                    token_type_ids = None,\n",
        "                                    attention_mask = attn_mask,\n",
        "                                    return_dict=False)\n",
        "\n",
        "    # Retrieve our sentence embedding--take the `[CLS]` embedding from the final\n",
        "    # layer.\n",
        "    layer_i = 12 # The last BERT layer before the classifier.\n",
        "    batch_i = 0 # Only one input in the batch.\n",
        "    token_i = 0 # The first token, corresponding to [CLS]\n",
        "\n",
        "    # Grab the embedding.\n",
        "    vec = encoded_layers[layer_i][batch_i][token_i]\n",
        "\n",
        "    # Move to the CPU and convert to numpy ndarray.\n",
        "    vec = vec.detach().cpu().numpy()\n",
        "\n",
        "    return(vec)\n"
      ],
      "execution_count": 96,
      "outputs": []
    },
    {
      "cell_type": "markdown",
      "metadata": {
        "id": "GOBMr3hq_TeQ"
      },
      "source": [
        "### 7.3. Vectorize Dataset"
      ]
    },
    {
      "cell_type": "markdown",
      "metadata": {
        "id": "eF7d524nB3XF"
      },
      "source": [
        "We'll go back to the original dataset here. It should still be in memory as a pandas dataframe named `comments`.\n",
        "\n",
        "Let's start by vectorizing a single comment."
      ]
    },
    {
      "cell_type": "code",
      "metadata": {
        "id": "Cl-cH23CCMnX",
        "colab": {
          "base_uri": "https://localhost:8080/"
        },
        "outputId": "83e86f8a-915b-4b3a-c5c7-f43f9d833359"
      },
      "source": [
        "# Get the text from one of the comments.\n",
        "input_text = comments.iloc[10].comment\n",
        "\n",
        "# Use `textwrap` to print the sentence nicely.\n",
        "wrapper = textwrap.TextWrapper(initial_indent=\"    \", subsequent_indent=\"    \",\n",
        "                               width = 80)\n",
        "\n",
        "print('Getting embedding for sentence:\\n\\n', wrapper.fill(input_text))\n",
        "\n",
        "# Use the BERT model and tokenizer to generate an embedding for `input_text`.\n",
        "vec = text_to_embedding(tokenizer, model, input_text)\n",
        "\n",
        "print('\\nDone. Embedding shape:', str(vec.shape))"
      ],
      "execution_count": 97,
      "outputs": [
        {
          "output_type": "stream",
          "name": "stderr",
          "text": [
            "Truncation was not explicitly activated but `max_length` is provided a specific value, please use `truncation=True` to explicitly truncate examples to max length. Defaulting to 'longest_first' truncation strategy. If you encode pairs of sequences (GLUE-style) with the tokenizer you can select this strategy more precisely by providing a specific strategy to `truncation`.\n"
          ]
        },
        {
          "output_type": "stream",
          "name": "stdout",
          "text": [
            "Getting embedding for sentence:\n",
            "\n",
            "       :Correct. Full biographical details will put down his birth details, etc.\n",
            "    It is just a marker to me at the moment to detail the WR aspect. He\n",
            "    certainly wasn't Belarus; as a geo-political entity it had no real existence\n",
            "    at the time. I have put a tbc marker on this article for now.\n",
            "\n",
            "Done. Embedding shape: (768,)\n"
          ]
        }
      ]
    },
    {
      "cell_type": "markdown",
      "metadata": {
        "id": "9vFLKwGLEW2q"
      },
      "source": [
        "It's working! In order to perform similarity search against this comments dataset, we now need to vectorize *all* of the comments."
      ]
    },
    {
      "cell_type": "markdown",
      "metadata": {
        "id": "V1AWLUKYFkKc"
      },
      "source": [
        "Define a small helper function for formatting elapsed times.\n"
      ]
    },
    {
      "cell_type": "code",
      "metadata": {
        "id": "Hef0tafhFkKe"
      },
      "source": [
        "import time\n",
        "import datetime\n",
        "\n",
        "def format_time(elapsed):\n",
        "    '''\n",
        "    Takes a time in seconds and returns a string hh:mm:ss\n",
        "    '''\n",
        "    # Round to the nearest second.\n",
        "    elapsed_rounded = int(round((elapsed)))\n",
        "\n",
        "    # Format as hh:mm:ss\n",
        "    return str(datetime.timedelta(seconds=elapsed_rounded))\n"
      ],
      "execution_count": 98,
      "outputs": []
    },
    {
      "cell_type": "markdown",
      "metadata": {
        "id": "DGwN9hBQpRD3"
      },
      "source": [
        "Loop over all of the comments in the dataset, converting each one. Prints progress periodically."
      ]
    },
    {
      "cell_type": "code",
      "metadata": {
        "id": "Xg-mOiN_Ebmj",
        "colab": {
          "base_uri": "https://localhost:8080/"
        },
        "outputId": "6a6bf93e-dc25-48e5-d292-c72f6ff09867"
      },
      "source": [
        "import time\n",
        "\n",
        "# Track the time.\n",
        "t0 = time.time()\n",
        "\n",
        "# Store the set of embeddings.\n",
        "embeddings = []\n",
        "\n",
        "num_comments = len(comments)\n",
        "\n",
        "print('Generating sentence embeddings for all {:,} comments...'.format(num_comments))\n",
        "\n",
        "row_num = 0\n",
        "\n",
        "# For each row of the dataframe...\n",
        "for index, row in comments.iterrows():\n",
        "\n",
        "    # Progress update every 2,000 comments.\n",
        "    if row_num % 2000 == 0 and not row_num == 0:\n",
        "\n",
        "        # Calculate elapsed time and format it.\n",
        "        elapsed = format_time(time.time() - t0)\n",
        "\n",
        "        # Calculate the time remaining based on our progress.\n",
        "        rows_per_sec = (time.time() - t0) / row_num\n",
        "        remaining_sec = rows_per_sec * (num_comments - row_num)\n",
        "        remaining = format_time(remaining_sec)\n",
        "\n",
        "        # Report progress.\n",
        "        print('  Comment {:>7,}  of  {:>7,}.    Elapsed: {:}. Remaining: {:}'.format(row_num, num_comments, elapsed, remaining))\n",
        "\n",
        "    # Vectorize this comment.\n",
        "    vec = text_to_embedding(tokenizer, model, row.comment)\n",
        "\n",
        "    # Store the embeddings.\n",
        "    embeddings.append(vec)\n",
        "\n",
        "    row_num += 1\n"
      ],
      "execution_count": 99,
      "outputs": [
        {
          "output_type": "stream",
          "name": "stdout",
          "text": [
            "Generating sentence embeddings for all 115,864 comments...\n",
            "  Comment   2,000  of  115,864.    Elapsed: 0:00:29. Remaining: 0:27:33\n",
            "  Comment   4,000  of  115,864.    Elapsed: 0:00:58. Remaining: 0:27:11\n",
            "  Comment   6,000  of  115,864.    Elapsed: 0:01:27. Remaining: 0:26:37\n",
            "  Comment   8,000  of  115,864.    Elapsed: 0:01:55. Remaining: 0:25:55\n",
            "  Comment  10,000  of  115,864.    Elapsed: 0:02:23. Remaining: 0:25:12\n",
            "  Comment  12,000  of  115,864.    Elapsed: 0:02:51. Remaining: 0:24:37\n",
            "  Comment  14,000  of  115,864.    Elapsed: 0:03:26. Remaining: 0:24:56\n",
            "  Comment  16,000  of  115,864.    Elapsed: 0:03:53. Remaining: 0:24:16\n",
            "  Comment  18,000  of  115,864.    Elapsed: 0:04:23. Remaining: 0:23:51\n",
            "  Comment  20,000  of  115,864.    Elapsed: 0:05:00. Remaining: 0:23:57\n",
            "  Comment  22,000  of  115,864.    Elapsed: 0:05:29. Remaining: 0:23:22\n",
            "  Comment  24,000  of  115,864.    Elapsed: 0:05:58. Remaining: 0:22:51\n",
            "  Comment  26,000  of  115,864.    Elapsed: 0:06:28. Remaining: 0:22:20\n",
            "  Comment  28,000  of  115,864.    Elapsed: 0:06:56. Remaining: 0:21:46\n",
            "  Comment  30,000  of  115,864.    Elapsed: 0:07:24. Remaining: 0:21:12\n",
            "  Comment  32,000  of  115,864.    Elapsed: 0:07:53. Remaining: 0:20:39\n",
            "  Comment  34,000  of  115,864.    Elapsed: 0:08:22. Remaining: 0:20:09\n",
            "  Comment  36,000  of  115,864.    Elapsed: 0:08:51. Remaining: 0:19:38\n",
            "  Comment  38,000  of  115,864.    Elapsed: 0:09:20. Remaining: 0:19:08\n",
            "  Comment  40,000  of  115,864.    Elapsed: 0:09:48. Remaining: 0:18:35\n",
            "  Comment  42,000  of  115,864.    Elapsed: 0:10:18. Remaining: 0:18:06\n",
            "  Comment  44,000  of  115,864.    Elapsed: 0:10:45. Remaining: 0:17:34\n",
            "  Comment  46,000  of  115,864.    Elapsed: 0:11:14. Remaining: 0:17:04\n",
            "  Comment  48,000  of  115,864.    Elapsed: 0:11:44. Remaining: 0:16:36\n",
            "  Comment  50,000  of  115,864.    Elapsed: 0:12:16. Remaining: 0:16:10\n",
            "  Comment  52,000  of  115,864.    Elapsed: 0:12:44. Remaining: 0:15:39\n",
            "  Comment  54,000  of  115,864.    Elapsed: 0:13:13. Remaining: 0:15:08\n",
            "  Comment  56,000  of  115,864.    Elapsed: 0:13:41. Remaining: 0:14:38\n",
            "  Comment  58,000  of  115,864.    Elapsed: 0:14:10. Remaining: 0:14:08\n",
            "  Comment  60,000  of  115,864.    Elapsed: 0:14:38. Remaining: 0:13:37\n",
            "  Comment  62,000  of  115,864.    Elapsed: 0:15:09. Remaining: 0:13:10\n",
            "  Comment  64,000  of  115,864.    Elapsed: 0:15:38. Remaining: 0:12:40\n",
            "  Comment  66,000  of  115,864.    Elapsed: 0:16:07. Remaining: 0:12:10\n",
            "  Comment  68,000  of  115,864.    Elapsed: 0:16:35. Remaining: 0:11:41\n",
            "  Comment  70,000  of  115,864.    Elapsed: 0:17:04. Remaining: 0:11:11\n",
            "  Comment  72,000  of  115,864.    Elapsed: 0:17:33. Remaining: 0:10:41\n",
            "  Comment  74,000  of  115,864.    Elapsed: 0:18:01. Remaining: 0:10:12\n",
            "  Comment  76,000  of  115,864.    Elapsed: 0:18:29. Remaining: 0:09:42\n",
            "  Comment  78,000  of  115,864.    Elapsed: 0:18:59. Remaining: 0:09:13\n",
            "  Comment  80,000  of  115,864.    Elapsed: 0:19:28. Remaining: 0:08:44\n",
            "  Comment  82,000  of  115,864.    Elapsed: 0:19:56. Remaining: 0:08:14\n",
            "  Comment  84,000  of  115,864.    Elapsed: 0:20:24. Remaining: 0:07:44\n",
            "  Comment  86,000  of  115,864.    Elapsed: 0:20:53. Remaining: 0:07:15\n",
            "  Comment  88,000  of  115,864.    Elapsed: 0:21:21. Remaining: 0:06:46\n",
            "  Comment  90,000  of  115,864.    Elapsed: 0:21:50. Remaining: 0:06:16\n",
            "  Comment  92,000  of  115,864.    Elapsed: 0:22:18. Remaining: 0:05:47\n",
            "  Comment  94,000  of  115,864.    Elapsed: 0:22:47. Remaining: 0:05:18\n",
            "  Comment  96,000  of  115,864.    Elapsed: 0:23:15. Remaining: 0:04:49\n",
            "  Comment  98,000  of  115,864.    Elapsed: 0:23:44. Remaining: 0:04:20\n",
            "  Comment 100,000  of  115,864.    Elapsed: 0:24:12. Remaining: 0:03:50\n",
            "  Comment 102,000  of  115,864.    Elapsed: 0:24:40. Remaining: 0:03:21\n",
            "  Comment 104,000  of  115,864.    Elapsed: 0:25:09. Remaining: 0:02:52\n",
            "  Comment 106,000  of  115,864.    Elapsed: 0:25:38. Remaining: 0:02:23\n",
            "  Comment 108,000  of  115,864.    Elapsed: 0:26:06. Remaining: 0:01:54\n",
            "  Comment 110,000  of  115,864.    Elapsed: 0:26:34. Remaining: 0:01:25\n",
            "  Comment 112,000  of  115,864.    Elapsed: 0:27:02. Remaining: 0:00:56\n",
            "  Comment 114,000  of  115,864.    Elapsed: 0:27:30. Remaining: 0:00:27\n"
          ]
        }
      ]
    },
    {
      "cell_type": "code",
      "metadata": {
        "id": "WZTbbMgvHBok",
        "colab": {
          "base_uri": "https://localhost:8080/"
        },
        "outputId": "39013028-5dd1-4bd8-c718-3bfd6bb06f28"
      },
      "source": [
        "import numpy as np\n",
        "\n",
        "# Convert the list of vectors into a 2D array.\n",
        "vecs = np.stack(embeddings)\n",
        "\n",
        "vecs.shape"
      ],
      "execution_count": 100,
      "outputs": [
        {
          "output_type": "execute_result",
          "data": {
            "text/plain": [
              "(115864, 768)"
            ]
          },
          "metadata": {},
          "execution_count": 100
        }
      ]
    },
    {
      "cell_type": "code",
      "metadata": {
        "id": "9pIraz41Kluu",
        "colab": {
          "base_uri": "https://localhost:8080/"
        },
        "outputId": "33f09e10-ab5f-4544-b704-d9bd3b000a35"
      },
      "source": [
        "import os\n",
        "\n",
        "output_dir = './model_save/'\n",
        "\n",
        "# Create output directory if needed\n",
        "if not os.path.exists(output_dir):\n",
        "    os.makedirs(output_dir)\n",
        "\n",
        "# Use numpy to write out the matrix of embeddings.\n",
        "print(\"Saving embeddings to: ./model_save/embeddings.npy\")\n",
        "np.save('./model_save/embeddings.npy', vecs)\n",
        "\n",
        "# Copy the embeddings to a directory in your Google Drive.\n",
        "!cp -r ./model_save/embeddings.npy \"./drive/My Drive/BERT Document Classification Tutorial/model_save/\""
      ],
      "execution_count": 101,
      "outputs": [
        {
          "output_type": "stream",
          "name": "stdout",
          "text": [
            "Saving embeddings to: ./model_save/embeddings.npy\n"
          ]
        }
      ]
    },
    {
      "cell_type": "markdown",
      "metadata": {
        "id": "W_Vb5B6gIrmm"
      },
      "source": [
        "## 8. Semantic Similarity Search"
      ]
    },
    {
      "cell_type": "markdown",
      "metadata": {
        "id": "-MDi2C_LK21z"
      },
      "source": [
        "Now that we have our comments all vectorized, we are ready to make them \"searchable\".\n",
        "\n",
        "We do this using a technique called \"k-Nearest Neighbor Search\" or \"k-NN\". Simply put, we use a distance metric such as Euclidean distance, calculate that distance between our \"query\" vector and all of the vectors to be searched, then sort the distances to find the closest matches.\n",
        "\n",
        "All of those distance calculations can make k-NN search computationally expensive and slow. There are a number of libraries out there for accelerating k-NN using carefully optimized code and / or approximation techniques.\n",
        "\n",
        "I personally like the FAISS (Facebook AI Similarity Search) library, in part because it has a really excellent GPU implementation.\n",
        "\n",
        "Using the GPU, we can perform \"brute-force\" k-NN search (meaning no approximation techniques which compromise on accuracy) on this dataset quickly."
      ]
    },
    {
      "cell_type": "markdown",
      "metadata": {
        "id": "4_HvvrKhKuf1"
      },
      "source": [
        "### 8.1. k-NN with FAISS and GPU\n",
        "\n",
        "First we'll need to install FAISS."
      ]
    },
    {
      "cell_type": "code",
      "metadata": {
        "id": "TZ97wBOMLRDc",
        "colab": {
          "base_uri": "https://localhost:8080/"
        },
        "outputId": "3452ad2c-3b46-4e12-8ba6-090ea73f01b2"
      },
      "source": [
        "!pip install faiss-gpu"
      ],
      "execution_count": 103,
      "outputs": [
        {
          "output_type": "stream",
          "name": "stdout",
          "text": [
            "Collecting faiss-gpu\n",
            "  Downloading faiss_gpu-1.7.2-cp310-cp310-manylinux_2_17_x86_64.manylinux2014_x86_64.whl (85.5 MB)\n",
            "\u001b[2K     \u001b[90m━━━━━━━━━━━━━━━━━━━━━━━━━━━━━━━━━━━━━━━━\u001b[0m \u001b[32m85.5/85.5 MB\u001b[0m \u001b[31m9.9 MB/s\u001b[0m eta \u001b[36m0:00:00\u001b[0m\n",
            "\u001b[?25hInstalling collected packages: faiss-gpu\n",
            "Successfully installed faiss-gpu-1.7.2\n"
          ]
        }
      ]
    },
    {
      "cell_type": "markdown",
      "metadata": {
        "id": "DsML_e7bq7FD"
      },
      "source": [
        "To create a GPU index with FAISS, you first create it on the CPU, then copy it over.\n",
        "\n",
        "A \"Flat\" index means that it's brute-force, with no approximation tricks."
      ]
    },
    {
      "cell_type": "code",
      "metadata": {
        "id": "1RHCpXjaJDHT",
        "colab": {
          "base_uri": "https://localhost:8080/"
        },
        "outputId": "31993535-3d7b-4786-b0da-5e622d51c4de"
      },
      "source": [
        "import faiss\n",
        "\n",
        "# =====================================\n",
        "#            FAISS Setup\n",
        "# =====================================\n",
        "\n",
        "# Build a flat (CPU) index\n",
        "cpu_index = faiss.IndexFlatL2(vecs.shape[1])\n",
        "\n",
        "# Use 1 GPU.\n",
        "n_gpu = 1\n",
        "\n",
        "# Print the number of available GPUs.\n",
        "print('Number of available GPUs: %d    Using: %d' % (faiss.get_num_gpus(), n_gpu))\n",
        "\n",
        "# If using multiple GPUs, enable sharding so that the dataset is divided across\n",
        "# the GPUs rather than replicated.\n",
        "co = faiss.GpuMultipleClonerOptions()\n",
        "co.shard = True\n",
        "\n",
        "# Make it into a gpu index\n",
        "gpu_index = faiss.index_cpu_to_all_gpus(cpu_index, co=co, ngpu=n_gpu)\n",
        "\n",
        "# Add vecs to our GPU index\n",
        "print('Adding dataset to index...')\n",
        "t0 = time.time()\n",
        "\n",
        "gpu_index.add(vecs)\n",
        "\n",
        "elapsed = time.time() - t0\n",
        "print('Building index took %.2f seconds' % (elapsed))\n"
      ],
      "execution_count": 104,
      "outputs": [
        {
          "output_type": "stream",
          "name": "stdout",
          "text": [
            "Number of available GPUs: 1    Using: 1\n",
            "Adding dataset to index...\n",
            "Building index took 0.10 seconds\n"
          ]
        }
      ]
    },
    {
      "cell_type": "markdown",
      "metadata": {
        "id": "CzDN81GyNqrl"
      },
      "source": [
        "Now let's try taking one of the comments from the dataset, and searching for the most semantically similar comments."
      ]
    },
    {
      "cell_type": "code",
      "metadata": {
        "id": "dea74vcZKgAe",
        "colab": {
          "base_uri": "https://localhost:8080/"
        },
        "outputId": "2192cfd5-1df6-46fc-e411-64112c2ad1a1"
      },
      "source": [
        "# Comment number 4 is short and sweet.\n",
        "print('==== Input Comment =====')\n",
        "print('Comment #4:')\n",
        "print(wrapper.fill(comments.iloc[4].comment))\n",
        "\n",
        "# Let's find the 5 most similar comments.\n",
        "D, I = gpu_index.search(vecs[4].reshape(1, 768), k=5)\n",
        "\n",
        "print('')\n",
        "print('==== Top 5 Results ====')\n",
        "\n",
        "# For each result...\n",
        "for i in range(I.shape[1]):\n",
        "\n",
        "    # Look up the comment row number for this result.\n",
        "    result_i = I[0, i]\n",
        "\n",
        "    # Look up the text for this comment.\n",
        "    text = comments.iloc[result_i].comment\n",
        "\n",
        "    print('Comment #{:,}:'.format(result_i))\n",
        "    print('L2 Distance: %.2f' % D[0, i])\n",
        "    print(wrapper.fill('\"' + text + '\"'))\n",
        "    print('')\n",
        "\n"
      ],
      "execution_count": 105,
      "outputs": [
        {
          "output_type": "stream",
          "name": "stdout",
          "text": [
            "==== Input Comment =====\n",
            "Comment #4:\n",
            "    This page will need disambiguation.\n",
            "\n",
            "==== Top 5 Results ====\n",
            "Comment #4:\n",
            "L2 Distance: 0.00\n",
            "    \"This page will need disambiguation. \"\n",
            "\n",
            "Comment #39,578:\n",
            "L2 Distance: 13.53\n",
            "    \"  This page needs to be expand.   \"\n",
            "\n",
            "Comment #2,872:\n",
            "L2 Distance: 15.82\n",
            "    \"DISAMBIGUATION PAGE needed  \"\n",
            "\n",
            "Comment #100,779:\n",
            "L2 Distance: 16.11\n",
            "    \" Description on image page is confusing about this.   \"\n",
            "\n",
            "Comment #8,612:\n",
            "L2 Distance: 17.21\n",
            "    \"why can't i edit this page?\"\n",
            "\n"
          ]
        }
      ]
    },
    {
      "cell_type": "markdown",
      "metadata": {
        "id": "z_xIiJpePMx-"
      },
      "source": [
        "Using our `text_to_embedding` function, we can also define new text to use as our query. Let's try writing a new sentence that's similar in meaning to comment #4, but uses different language. The word \"disambiguate\" means \"remove uncertainty of meaning from\", so I've written \"The meaning of this page needs to be clarified.\"\n",
        "\n"
      ]
    },
    {
      "cell_type": "code",
      "metadata": {
        "id": "5g4L36oHOF7w",
        "colab": {
          "base_uri": "https://localhost:8080/"
        },
        "outputId": "8de066ae-826d-45a9-9189-bdbeabf951f6"
      },
      "source": [
        "query_text = \"The meaning of this page needs to be clarified.\"\n",
        "\n",
        "# Vectorize a new piece of text.\n",
        "query_vec = text_to_embedding(tokenizer, model, query_text)\n",
        "\n",
        "# Let's find the 5 most similar comments.\n",
        "D, I = gpu_index.search(query_vec.reshape(1, 768), k=5)\n",
        "\n",
        "print('')\n",
        "print('==== Top 5 Results ====')\n",
        "\n",
        "# For each result...\n",
        "for i in range(I.shape[1]):\n",
        "\n",
        "    # Look up the comment row number for this result.\n",
        "    result_i = I[0, i]\n",
        "\n",
        "    # Look up the text for this comment.\n",
        "    text = comments.iloc[result_i].comment\n",
        "\n",
        "    print('Comment #{:,}:'.format(result_i))\n",
        "    print('L2 Distance: %.2f' % D[0, i])\n",
        "    print(wrapper.fill('\"' + text + '\"'))\n",
        "    print('')\n",
        "\n"
      ],
      "execution_count": 106,
      "outputs": [
        {
          "output_type": "stream",
          "name": "stdout",
          "text": [
            "\n",
            "==== Top 5 Results ====\n",
            "Comment #4:\n",
            "L2 Distance: 10.88\n",
            "    \"This page will need disambiguation. \"\n",
            "\n",
            "Comment #39,578:\n",
            "L2 Distance: 14.79\n",
            "    \"  This page needs to be expand.   \"\n",
            "\n",
            "Comment #84,926:\n",
            "L2 Distance: 16.71\n",
            "    \"  == Serious redundancy issues ==  There is substantial replication of text\n",
            "    in this article.   \"\n",
            "\n",
            "Comment #48,854:\n",
            "L2 Distance: 17.53\n",
            "    \"This page's history is completely not neutral It needs to be revamped.\"\n",
            "\n",
            "Comment #101,805:\n",
            "L2 Distance: 18.93\n",
            "    \"I need help to improve this page.\"\n",
            "\n"
          ]
        }
      ]
    },
    {
      "cell_type": "markdown",
      "metadata": {
        "id": "wy_7yycXaRAD"
      },
      "source": [
        "The results look pretty good!\n",
        "\n",
        "Let's try another query, this time with a different intent."
      ]
    },
    {
      "cell_type": "code",
      "metadata": {
        "id": "X6Edlz0iMrVe",
        "colab": {
          "base_uri": "https://localhost:8080/"
        },
        "outputId": "194cf62e-2092-4ff1-ab6d-5d4cc8b1ee68"
      },
      "source": [
        "query_text = \"This article really needs more citations.\"\n",
        "\n",
        "# Vectorize a new piece of text.\n",
        "query_vec = text_to_embedding(tokenizer, model, query_text)\n",
        "\n",
        "# Let's find the 5 most similar comments.\n",
        "D, I = gpu_index.search(query_vec.reshape(1, 768), k=5)\n",
        "\n",
        "print('')\n",
        "print('==== Top 5 Results ====')\n",
        "\n",
        "# For each result...\n",
        "for i in range(I.shape[1]):\n",
        "\n",
        "    # Look up the comment row number for this result.\n",
        "    result_i = I[0, i]\n",
        "\n",
        "    # Look up the text for this comment.\n",
        "    text = comments.iloc[result_i].comment\n",
        "\n",
        "    print('Comment #{:,}:'.format(result_i))\n",
        "    print('L2 Distance: %.2f' % D[0, i])\n",
        "    print(wrapper.fill('\"' + text + '\"'))\n",
        "    print('')\n",
        "\n"
      ],
      "execution_count": 107,
      "outputs": [
        {
          "output_type": "stream",
          "name": "stdout",
          "text": [
            "\n",
            "==== Top 5 Results ====\n",
            "Comment #4:\n",
            "L2 Distance: 14.10\n",
            "    \"This page will need disambiguation. \"\n",
            "\n",
            "Comment #101,805:\n",
            "L2 Distance: 15.65\n",
            "    \"I need help to improve this page.\"\n",
            "\n",
            "Comment #19,950:\n",
            "L2 Distance: 17.86\n",
            "    \"  ==Expand== please expand this article. \"\n",
            "\n",
            "Comment #84,926:\n",
            "L2 Distance: 18.31\n",
            "    \"  == Serious redundancy issues ==  There is substantial replication of text\n",
            "    in this article.   \"\n",
            "\n",
            "Comment #102,270:\n",
            "L2 Distance: 19.17\n",
            "    \" ::::No.  The comments are completely relevant to this article.\"\n",
            "\n"
          ]
        }
      ]
    }
  ]
}